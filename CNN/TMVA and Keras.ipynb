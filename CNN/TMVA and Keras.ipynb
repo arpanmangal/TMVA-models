{
 "cells": [
  {
   "cell_type": "markdown",
   "metadata": {},
   "source": [
    "# TMVA Classification \n",
    "\n",
    "This notebook is a basic example for training and testing CNN model with TMVA and TMVA-Keras.\n",
    "\n",
    "(Based on TMVA Tutorials: https://github.com/lmoneta/tmva-tutorial)"
   ]
  },
  {
   "cell_type": "markdown",
   "metadata": {},
   "source": [
    "## Declare Factory class"
   ]
  },
  {
   "cell_type": "code",
   "execution_count": 1,
   "metadata": {},
   "outputs": [
    {
     "name": "stdout",
     "output_type": "stream",
     "text": [
      "Welcome to JupyROOT 6.21/01\n"
     ]
    }
   ],
   "source": [
    "import ROOT\n",
    "from ROOT import TMVA\n",
    "from subprocess import call\n",
    "import os "
   ]
  },
  {
   "cell_type": "code",
   "execution_count": 2,
   "metadata": {},
   "outputs": [],
   "source": [
    "ROOT.TMVA.Tools.Instance()\n",
    "TMVA.PyMethodBase.PyInitialize()\n",
    "\n",
    "## For PYMVA methods\n",
    "TMVA.PyMethodBase.PyInitialize();\n",
    "\n",
    "\n",
    "outputFile = ROOT.TFile.Open(\"CNN_ClassificationOutput.root\", \"RECREATE\")\n",
    "\n",
    "factory = ROOT.TMVA.Factory(\"TMVA_CNN_Classification\", outputFile,\n",
    "                      \"!V:ROC:Silent:Color:!DrawProgressBar:AnalysisType=Classification\" )"
   ]
  },
  {
   "cell_type": "markdown",
   "metadata": {},
   "source": [
    "## Declare DataLoader(s)\n",
    "\n",
    "Next we get the data and declare the DataLoader class.\n",
    "\n",
    "In this case the input data consists of an image of 32x32 pixels. Each ROOT TTree contains a single branch containg a vector of size 1024 denoting the image pixels."
   ]
  },
  {
   "cell_type": "code",
   "execution_count": 3,
   "metadata": {},
   "outputs": [],
   "source": [
    "# Load data\n",
    "inputFileName = \"sample_images_32x32.root\"\n",
    "\n",
    "if not os.path.isfile(inputFileName):\n",
    "    call(['curl', '-o', inputFileName, 'https://cernbox.cern.ch/index.php/s/mba2sFJ3ugoy269/download'])"
   ]
  },
  {
   "cell_type": "code",
   "execution_count": 4,
   "metadata": {},
   "outputs": [
    {
     "name": "stdout",
     "output_type": "stream",
     "text": [
      "******************************************************************************\n",
      "*Tree    :sig_tree  : signal_tree                                            *\n",
      "*Entries :    10000 : Total =        41219997 bytes  File  Size =   37110195 *\n",
      "*        :          : Tree compression factor =   1.11                       *\n",
      "******************************************************************************\n",
      "*Br    0 :vars      : vector<float>                                          *\n",
      "*Entries :    10000 : Total  Size=   41219579 bytes  File Size  =   37100381 *\n",
      "*Baskets :     1158 : Basket Size=    3265024 bytes  Compression=   1.11     *\n",
      "*............................................................................*\n"
     ]
    }
   ],
   "source": [
    "inputFile = ROOT.TFile.Open( inputFileName )\n",
    "\n",
    "# retrieve input trees\n",
    "signalTree     = inputFile.Get(\"sig_tree\")\n",
    "backgroundTree = inputFile.Get(\"bkg_tree\")\n",
    "\n",
    "signalTree.Print()"
   ]
  },
  {
   "cell_type": "code",
   "execution_count": 5,
   "metadata": {},
   "outputs": [
    {
     "name": "stdout",
     "output_type": "stream",
     "text": [
      "create data set info dataset\n"
     ]
    }
   ],
   "source": [
    "dataloader = TMVA.DataLoader('dataset')\n",
    "\n",
    "### Adding the trees\n",
    "dataloader.AddSignalTree(signalTree, 1.0)\n",
    "dataloader.AddBackgroundTree(backgroundTree, 1.0)\n",
    "\n",
    "# Add variables\n",
    "imgsize = 32 * 32\n",
    "for i in range(imgsize):\n",
    "    varName = \"var_{} := vars[{}]\".format(i,i)\n",
    "    dataloader.AddVariable(varName,'F')\n",
    "\n",
    "dataloader.PrepareTrainingAndTestTree( ROOT.TCut(''), ROOT.TCut(''),\n",
    "                                  \"nTrain_Signal=8000:nTrain_Background=8000:SplitMode=Random:\"\n",
    "                                   \"NormMode=NumEvents:!V\" )"
   ]
  },
  {
   "cell_type": "markdown",
   "metadata": {},
   "source": [
    "# Booking Methods\n",
    "\n",
    "Here we book the TMVA and TMVA-Keras methods."
   ]
  },
  {
   "cell_type": "markdown",
   "metadata": {},
   "source": [
    "### Book Convolutional Neural Network in TMVA"
   ]
  },
  {
   "cell_type": "code",
   "execution_count": 6,
   "metadata": {
    "scrolled": true
   },
   "outputs": [
    {
     "data": {
      "text/plain": [
       "<cppyy.gbl.TMVA.MethodDL object at 0x7fffc48647f0>"
      ]
     },
     "execution_count": 6,
     "metadata": {},
     "output_type": "execute_result"
    }
   ],
   "source": [
    "#input layout \n",
    "inputLayoutString = \"InputLayout=1|32|32\"\n",
    "                                                                           \n",
    "## Batch Layout                                                                                                                                     \n",
    "batchLayoutString = \"BatchLayout=64|1|1024\"\n",
    "                                                   \n",
    "layoutString = (\"Layout=CONV|8|3|3|1|1|1|1|RELU,BNORM,CONV|8|3|3|1|1|1|1|RELU,\"\n",
    "                \"BNORM,RESHAPE|FLAT,DENSE|64|TANH,DENSE|1|TANH\")\n",
    "\n",
    "##Training strategies.                                                                                                                          \n",
    "training1 = (\"LearningRate=0.0003,Momentum=0.9,Repetitions=1,\"\n",
    "                     \"ConvergenceSteps=10,BatchSize=64,TestRepetitions=1,\"\n",
    "                     \"MaxEpochs=20,WeightDecay=1e-4,Regularization=None,\"\n",
    "                     \"Optimizer=SGD,DropConfig=0.0+0.0+0.0+0.0\")\n",
    " \n",
    "trainingStrategyString = \"TrainingStrategy=\" + training1\n",
    "    \n",
    "## General Options.                                                                                                                              \n",
    "cnnOptions = (\"!H:V:ErrorStrategy=CROSSENTROPY:VarTransform=None:\"\n",
    "                       \"WeightInitialization=XAVIERUNIFORM\")\n",
    "\n",
    "cnnOptions +=  \":\" + inputLayoutString\n",
    "cnnOptions +=  \":\" + batchLayoutString\n",
    "cnnOptions +=  \":\" + layoutString\n",
    "cnnOptions +=  \":\" + trainingStrategyString\n",
    "cnnOptions +=  \":Architecture=CPU\"\n",
    "\n",
    "##book CNN\n",
    "factory.BookMethod(dataloader, TMVA.Types.kDL, \"DL_CNN\", cnnOptions)"
   ]
  },
  {
   "cell_type": "markdown",
   "metadata": {},
   "source": [
    "### Book Convolutional Neural Network in Keras"
   ]
  },
  {
   "cell_type": "code",
   "execution_count": 7,
   "metadata": {},
   "outputs": [],
   "source": [
    "## to use tensorflow backend\n",
    "import os\n",
    "os.environ[\"KERAS_BACKEND\"] = \"tensorflow\""
   ]
  },
  {
   "cell_type": "code",
   "execution_count": 8,
   "metadata": {},
   "outputs": [
    {
     "name": "stderr",
     "output_type": "stream",
     "text": [
      "Using TensorFlow backend.\n"
     ]
    }
   ],
   "source": [
    "from keras.models import Sequential\n",
    "from keras.layers import Dense, Activation\n",
    "from keras.layers import Dense, Dropout, Flatten, Reshape\n",
    "from keras.layers import Conv2D, MaxPooling2D, BatchNormalization\n",
    "from keras import backend as K\n",
    "\n",
    "from keras.regularizers import l2\n",
    "from keras.optimizers import SGD"
   ]
  },
  {
   "cell_type": "code",
   "execution_count": 9,
   "metadata": {},
   "outputs": [
    {
     "name": "stdout",
     "output_type": "stream",
     "text": [
      "Model: \"sequential_1\"\n",
      "_________________________________________________________________\n",
      "Layer (type)                 Output Shape              Param #   \n",
      "=================================================================\n",
      "reshape_1 (Reshape)          (None, 32, 32, 1)         0         \n",
      "_________________________________________________________________\n",
      "conv2d_1 (Conv2D)            (None, 32, 32, 8)         80        \n",
      "_________________________________________________________________\n",
      "batch_normalization_1 (Batch (None, 32, 32, 8)         32        \n",
      "_________________________________________________________________\n",
      "conv2d_2 (Conv2D)            (None, 32, 32, 8)         584       \n",
      "_________________________________________________________________\n",
      "batch_normalization_2 (Batch (None, 32, 32, 8)         32        \n",
      "_________________________________________________________________\n",
      "flatten_1 (Flatten)          (None, 8192)              0         \n",
      "_________________________________________________________________\n",
      "dense_1 (Dense)              (None, 64)                524352    \n",
      "_________________________________________________________________\n",
      "dense_2 (Dense)              (None, 2)                 130       \n",
      "=================================================================\n",
      "Total params: 525,210\n",
      "Trainable params: 525,178\n",
      "Non-trainable params: 32\n",
      "_________________________________________________________________\n"
     ]
    },
    {
     "name": "stderr",
     "output_type": "stream",
     "text": [
      "2020-03-17 21:41:48.283480: I tensorflow/core/platform/cpu_feature_guard.cc:142] Your CPU supports instructions that this TensorFlow binary was not compiled to use: SSE4.1 SSE4.2 AVX AVX2 FMA\n",
      "2020-03-17 21:41:48.293204: I tensorflow/core/platform/profile_utils/cpu_utils.cc:94] CPU Frequency: 2208000000 Hz\n",
      "2020-03-17 21:41:48.295060: I tensorflow/compiler/xla/service/service.cc:168] XLA service 0x7fffc4711680 initialized for platform Host (this does not guarantee that XLA will be used). Devices:\n",
      "2020-03-17 21:41:48.295165: I tensorflow/compiler/xla/service/service.cc:176]   StreamExecutor device (0): Host, Default Version\n",
      "2020-03-17 21:41:48.295592: I tensorflow/core/common_runtime/process_util.cc:147] Creating new thread pool with default inter op setting: 2. Tune using inter_op_parallelism_threads for best performance.\n"
     ]
    }
   ],
   "source": [
    "# Generate model\n",
    "batch_size = 64\n",
    "num_classes = 2\n",
    "epochs = 20\n",
    "\n",
    "# Define model\n",
    "model = Sequential()\n",
    "model.add(Reshape((32, 32, 1), input_shape=(imgsize,)))\n",
    "model.add(Conv2D(8, (3, 3), activation='relu', padding='same'))\n",
    "model.add(BatchNormalization())\n",
    "model.add(Conv2D(8, (3, 3), activation='relu', padding='same'))\n",
    "model.add(BatchNormalization())\n",
    "model.add(Flatten())\n",
    "model.add(Dense(64, activation='relu'))\n",
    "model.add(Dense(2, activation='softmax'))\n",
    "\n",
    "# Set loss and optimizer\n",
    "model.compile(loss='categorical_crossentropy',\n",
    "              optimizer=SGD(lr=0.0003, decay=1e-6, momentum=0.9),\n",
    "              metrics=['accuracy'])\n",
    "\n",
    "# Store model to file\n",
    "model.save('model_cnn.h5')\n",
    "model.summary()"
   ]
  },
  {
   "cell_type": "code",
   "execution_count": 10,
   "metadata": {},
   "outputs": [
    {
     "data": {
      "text/plain": [
       "<cppyy.gbl.TMVA.MethodPyKeras object at 0x7fad1871fd30>"
      ]
     },
     "execution_count": 10,
     "metadata": {},
     "output_type": "execute_result"
    },
    {
     "name": "stderr",
     "output_type": "stream",
     "text": [
      "2020-03-17 21:41:48.439258: I tensorflow/core/common_runtime/process_util.cc:147] Creating new thread pool with default inter op setting: 2. Tune using inter_op_parallelism_threads for best performance.\n"
     ]
    }
   ],
   "source": [
    "# Book method\n",
    "factory.BookMethod(dataloader, TMVA.Types.kPyKeras, 'PyKeras',\n",
    "                   'H:!V:VarTransform=None:FilenameModel=model_cnn.h5:'\n",
    "                   'FileNameTrainedModel=trained_model_cnn.h5:NumEpochs={}:BatchSize={}'.format(epochs, batch_size))"
   ]
  },
  {
   "cell_type": "markdown",
   "metadata": {},
   "source": [
    "## Train Methods"
   ]
  },
  {
   "cell_type": "code",
   "execution_count": 11,
   "metadata": {
    "scrolled": true
   },
   "outputs": [
    {
     "name": "stdout",
     "output_type": "stream",
     "text": [
      "Model: \"sequential_1\"\n",
      "_________________________________________________________________\n",
      "Layer (type)                 Output Shape              Param #   \n",
      "=================================================================\n",
      "reshape_1 (Reshape)          (None, 32, 32, 1)         0         \n",
      "_________________________________________________________________\n",
      "conv2d_1 (Conv2D)            (None, 32, 32, 8)         80        \n",
      "_________________________________________________________________\n",
      "batch_normalization_1 (Batch (None, 32, 32, 8)         32        \n",
      "_________________________________________________________________\n",
      "conv2d_2 (Conv2D)            (None, 32, 32, 8)         584       \n",
      "_________________________________________________________________\n",
      "batch_normalization_2 (Batch (None, 32, 32, 8)         32        \n",
      "_________________________________________________________________\n",
      "flatten_1 (Flatten)          (None, 8192)              0         \n",
      "_________________________________________________________________\n",
      "dense_1 (Dense)              (None, 64)                524352    \n",
      "_________________________________________________________________\n",
      "dense_2 (Dense)              (None, 2)                 130       \n",
      "=================================================================\n",
      "Total params: 525,210\n",
      "Trainable params: 525,178\n",
      "Non-trainable params: 32\n",
      "_________________________________________________________________\n",
      "Train on 12800 samples, validate on 3200 samples\n",
      "Epoch 1/20\n",
      "12800/12800 [==============================] - 27s 2ms/step - loss: 0.6680 - accuracy: 0.6133 - val_loss: 0.6149 - val_accuracy: 0.6575\n",
      "\n",
      "Epoch 00001: val_loss improved from inf to 0.61490, saving model to trained_model_cnn.h5\n",
      "Epoch 2/20\n",
      "12800/12800 [==============================] - 27s 2ms/step - loss: 0.4435 - accuracy: 0.8313 - val_loss: 0.3305 - val_accuracy: 0.9225\n",
      "\n",
      "Epoch 00002: val_loss improved from 0.61490 to 0.33049, saving model to trained_model_cnn.h5\n",
      "Epoch 3/20\n",
      "12800/12800 [==============================] - 28s 2ms/step - loss: 0.2471 - accuracy: 0.9480 - val_loss: 0.1759 - val_accuracy: 0.9787\n",
      "\n",
      "Epoch 00003: val_loss improved from 0.33049 to 0.17586, saving model to trained_model_cnn.h5\n",
      "Epoch 4/20\n",
      "12800/12800 [==============================] - 27s 2ms/step - loss: 0.1467 - accuracy: 0.9748 - val_loss: 0.1057 - val_accuracy: 0.9906\n",
      "\n",
      "Epoch 00004: val_loss improved from 0.17586 to 0.10573, saving model to trained_model_cnn.h5\n",
      "Epoch 5/20\n",
      "12800/12800 [==============================] - 26s 2ms/step - loss: 0.0861 - accuracy: 0.9926 - val_loss: 0.0770 - val_accuracy: 0.9925\n",
      "\n",
      "Epoch 00005: val_loss improved from 0.10573 to 0.07695, saving model to trained_model_cnn.h5\n",
      "Epoch 6/20\n",
      "12800/12800 [==============================] - 25s 2ms/step - loss: 0.0603 - accuracy: 0.9955 - val_loss: 0.0547 - val_accuracy: 0.9969\n",
      "\n",
      "Epoch 00006: val_loss improved from 0.07695 to 0.05474, saving model to trained_model_cnn.h5\n",
      "Epoch 7/20\n",
      "12800/12800 [==============================] - 27s 2ms/step - loss: 0.0453 - accuracy: 0.9978 - val_loss: 0.0484 - val_accuracy: 0.9950\n",
      "\n",
      "Epoch 00007: val_loss improved from 0.05474 to 0.04844, saving model to trained_model_cnn.h5\n",
      "Epoch 8/20\n",
      "12800/12800 [==============================] - 26s 2ms/step - loss: 0.0374 - accuracy: 0.9983 - val_loss: 0.0384 - val_accuracy: 0.9969\n",
      "\n",
      "Epoch 00008: val_loss improved from 0.04844 to 0.03836, saving model to trained_model_cnn.h5\n",
      "Epoch 9/20\n",
      "12800/12800 [==============================] - 27s 2ms/step - loss: 0.0291 - accuracy: 0.9992 - val_loss: 0.0346 - val_accuracy: 0.9972\n",
      "\n",
      "Epoch 00009: val_loss improved from 0.03836 to 0.03462, saving model to trained_model_cnn.h5\n",
      "Epoch 10/20\n",
      "12800/12800 [==============================] - 27s 2ms/step - loss: 0.0250 - accuracy: 0.9991 - val_loss: 0.0281 - val_accuracy: 0.9975\n",
      "\n",
      "Epoch 00010: val_loss improved from 0.03462 to 0.02807, saving model to trained_model_cnn.h5\n",
      "Epoch 11/20\n",
      "12800/12800 [==============================] - 26s 2ms/step - loss: 0.0210 - accuracy: 0.9995 - val_loss: 0.0260 - val_accuracy: 0.9969\n",
      "\n",
      "Epoch 00011: val_loss improved from 0.02807 to 0.02598, saving model to trained_model_cnn.h5\n",
      "Epoch 12/20\n",
      "12800/12800 [==============================] - 27s 2ms/step - loss: 0.0183 - accuracy: 0.9995 - val_loss: 0.0222 - val_accuracy: 0.9978\n",
      "\n",
      "Epoch 00012: val_loss improved from 0.02598 to 0.02224, saving model to trained_model_cnn.h5\n",
      "Epoch 13/20\n",
      "12800/12800 [==============================] - 27s 2ms/step - loss: 0.0167 - accuracy: 0.9996 - val_loss: 0.0227 - val_accuracy: 0.9981\n",
      "\n",
      "Epoch 00013: val_loss did not improve from 0.02224\n",
      "Epoch 14/20\n",
      "12800/12800 [==============================] - 27s 2ms/step - loss: 0.0151 - accuracy: 0.9996 - val_loss: 0.0216 - val_accuracy: 0.9981\n",
      "\n",
      "Epoch 00014: val_loss improved from 0.02224 to 0.02162, saving model to trained_model_cnn.h5\n",
      "Epoch 15/20\n",
      "12800/12800 [==============================] - 27s 2ms/step - loss: 0.0133 - accuracy: 0.9997 - val_loss: 0.0182 - val_accuracy: 0.9987\n",
      "\n",
      "Epoch 00015: val_loss improved from 0.02162 to 0.01820, saving model to trained_model_cnn.h5\n",
      "Epoch 16/20\n",
      "12800/12800 [==============================] - 27s 2ms/step - loss: 0.0120 - accuracy: 0.9998 - val_loss: 0.0174 - val_accuracy: 0.9981\n",
      "\n",
      "Epoch 00016: val_loss improved from 0.01820 to 0.01741, saving model to trained_model_cnn.h5\n",
      "Epoch 17/20\n",
      "12800/12800 [==============================] - 25s 2ms/step - loss: 0.0117 - accuracy: 0.9996 - val_loss: 0.0164 - val_accuracy: 0.9975\n",
      "\n",
      "Epoch 00017: val_loss improved from 0.01741 to 0.01638, saving model to trained_model_cnn.h5\n",
      "Epoch 18/20\n",
      "12800/12800 [==============================] - 26s 2ms/step - loss: 0.0102 - accuracy: 0.9998 - val_loss: 0.0159 - val_accuracy: 0.9978\n",
      "\n",
      "Epoch 00018: val_loss improved from 0.01638 to 0.01589, saving model to trained_model_cnn.h5\n",
      "Epoch 19/20\n",
      "12800/12800 [==============================] - 26s 2ms/step - loss: 0.0096 - accuracy: 0.9998 - val_loss: 0.0145 - val_accuracy: 0.9984\n",
      "\n",
      "Epoch 00019: val_loss improved from 0.01589 to 0.01455, saving model to trained_model_cnn.h5\n",
      "Epoch 20/20\n",
      "12800/12800 [==============================] - 25s 2ms/step - loss: 0.0089 - accuracy: 0.9999 - val_loss: 0.0136 - val_accuracy: 0.9981\n",
      "\n",
      "Epoch 00020: val_loss improved from 0.01455 to 0.01363, saving model to trained_model_cnn.h5\n",
      "addBNormLayer 8 , 32 , 32 , 8  1024  64\n",
      "addBNormLayer 8 , 32 , 32 , 8  1024  1\n",
      "addBNormLayer 8 , 32 , 32 , 8  1024  64\n",
      "addBNormLayer 8 , 32 , 32 , 8  1024  1\n",
      "DEEP NEURAL NETWORK:   Depth = 7  Input = ( 1, 32, 32 )  Batch size = 64  Loss function = C\n",
      "\tLayer 0\t CONV LAYER: \t( W = 32 ,  H = 32 ,  D = 8 ) \t Filter ( W = 3 ,  H = 3 ) \tOutput = ( 64 , 8 , 8 , 1024 ) \t Activation Function = Relu\n",
      "\tLayer 1\t BATCH NORM Layer: \t Input/Output = ( 8 , 1024 , 64 ) \t Norm dim =     8\t axis = 1\n",
      "\n",
      "\tLayer 2\t CONV LAYER: \t( W = 32 ,  H = 32 ,  D = 8 ) \t Filter ( W = 3 ,  H = 3 ) \tOutput = ( 64 , 8 , 8 , 1024 ) \t Activation Function = Relu\n",
      "\tLayer 3\t BATCH NORM Layer: \t Input/Output = ( 8 , 1024 , 64 ) \t Norm dim =     8\t axis = 1\n",
      "\n",
      "\tLayer 4\t RESHAPE Layer \t Input = ( 8 , 32 , 32 ) \tOutput = ( 1 , 64 , 8192 ) \n",
      "\tLayer 5\t DENSE Layer: \t ( Input =  8192 , Width =    64 ) \tOutput = (  1 ,    64 ,    64 ) \t Activation Function = Tanh\n",
      "\tLayer 6\t DENSE Layer: \t ( Input =    64 , Width =     1 ) \tOutput = (  1 ,    64 ,     1 ) \t Activation Function = Tanh\n",
      "addBNormLayer 8 , 32 , 32 , 8  1024  64\n",
      "addBNormLayer 8 , 32 , 32 , 8  1024  64\n",
      "TH1.Print Name  = TrainingHistory_DL_CNN_trainingError, Entries= 0, Total sum= 9.04023\n",
      "TH1.Print Name  = TrainingHistory_DL_CNN_valError, Entries= 0, Total sum= 8.98607\n",
      "TH1.Print Name  = TrainingHistory_PyKeras_'accuracy', Entries= 0, Total sum= 19.3468\n",
      "TH1.Print Name  = TrainingHistory_PyKeras_'loss', Entries= 0, Total sum= 1.9254\n",
      "TH1.Print Name  = TrainingHistory_PyKeras_'val_accuracy', Entries= 0, Total sum= 19.505\n",
      "TH1.Print Name  = TrainingHistory_PyKeras_'val_loss', Entries= 0, Total sum= 1.69679\n",
      "addBNormLayer 8 , 32 , 32 , 8  1024  1\n",
      "addBNormLayer 8 , 32 , 32 , 8  1024  1\n"
     ]
    }
   ],
   "source": [
    "factory.TrainAllMethods()"
   ]
  },
  {
   "cell_type": "markdown",
   "metadata": {},
   "source": [
    "## Test and Evaluate Methods"
   ]
  },
  {
   "cell_type": "code",
   "execution_count": 12,
   "metadata": {},
   "outputs": [
    {
     "name": "stdout",
     "output_type": "stream",
     "text": [
      "addBNormLayer 8 , 32 , 32 , 8  1024  100\n",
      "addBNormLayer 8 , 32 , 32 , 8  1024  100\n"
     ]
    }
   ],
   "source": [
    "factory.TestAllMethods()"
   ]
  },
  {
   "cell_type": "code",
   "execution_count": 13,
   "metadata": {},
   "outputs": [
    {
     "name": "stdout",
     "output_type": "stream",
     "text": [
      "addBNormLayer 8 , 32 , 32 , 8  1024  100\n",
      "addBNormLayer 8 , 32 , 32 , 8  1024  100\n",
      "                         : \n",
      "                         : Evaluation results ranked by best signal efficiency and purity (area)\n",
      "                         : -------------------------------------------------------------------------------------------------------------------\n",
      "                         : DataSet       MVA                       \n",
      "                         : Name:         Method:          ROC-integ\n",
      "                         : dataset       PyKeras        : 1.000\n",
      "                         : dataset       DL_CNN         : 1.000\n",
      "                         : -------------------------------------------------------------------------------------------------------------------\n",
      "                         : \n",
      "                         : Testing efficiency compared to training efficiency (overtraining check)\n",
      "                         : -------------------------------------------------------------------------------------------------------------------\n",
      "                         : DataSet              MVA              Signal efficiency: from test sample (from training sample) \n",
      "                         : Name:                Method:          @B=0.01             @B=0.10            @B=0.30   \n",
      "                         : -------------------------------------------------------------------------------------------------------------------\n",
      "                         : dataset              PyKeras        : 1.000 (1.000)       1.000 (1.000)      1.000 (1.000)\n",
      "                         : dataset              DL_CNN         : 1.000 (1.000)       1.000 (1.000)      1.000 (1.000)\n",
      "                         : -------------------------------------------------------------------------------------------------------------------\n",
      "                         : \n"
     ]
    }
   ],
   "source": [
    "factory.EvaluateAllMethods()"
   ]
  },
  {
   "cell_type": "markdown",
   "metadata": {},
   "source": [
    "## Plot ROC Curve\n",
    "\n",
    "We plot here the produce ROC curve obtained on evaluating the methods on the test data set"
   ]
  },
  {
   "cell_type": "code",
   "execution_count": 14,
   "metadata": {},
   "outputs": [],
   "source": [
    "# //We enable JavaScript visualisation for the plots\n",
    "# %jsroot on"
   ]
  },
  {
   "cell_type": "code",
   "execution_count": 15,
   "metadata": {},
   "outputs": [
    {
     "data": {
      "image/png": "[encoded data removed]",
      "text/plain": [
       "<IPython.core.display.Image object>"
      ]
     },
     "metadata": {},
     "output_type": "display_data"
    }
   ],
   "source": [
    "c1 = factory.GetROCCurve(dataloader);\n",
    "c1.Draw();"
   ]
  },
  {
   "cell_type": "markdown",
   "metadata": {},
   "source": [
    "####  Close outputfile to save all output information (evaluation result of methods)"
   ]
  },
  {
   "cell_type": "code",
   "execution_count": 16,
   "metadata": {},
   "outputs": [],
   "source": [
    "outputFile.Close();"
   ]
  }
 ],
 "metadata": {
  "kernelspec": {
   "display_name": "Python 3",
   "language": "python",
   "name": "python3"
  },
  "language_info": {
   "codemirror_mode": {
    "name": "ipython",
    "version": 3
   },
   "file_extension": ".py",
   "mimetype": "text/x-python",
   "name": "python",
   "nbconvert_exporter": "python",
   "pygments_lexer": "ipython3",
   "version": "3.7.6"
  }
 },
 "nbformat": 4,
 "nbformat_minor": 4
}
