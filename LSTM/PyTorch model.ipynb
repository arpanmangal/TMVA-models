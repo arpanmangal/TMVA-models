{
 "cells": [
  {
   "cell_type": "markdown",
   "metadata": {},
   "source": [
    "# PyTorch Classification \n",
    "\n",
    "This notebook is a basic example for training and testing LSTM model with PyTorch."
   ]
  },
  {
   "cell_type": "markdown",
   "metadata": {},
   "source": [
    "## Defining the PyTorch model and runner"
   ]
  },
  {
   "cell_type": "code",
   "execution_count": 1,
   "metadata": {},
   "outputs": [],
   "source": [
    "import torch\n",
    "import torch.nn as nn\n",
    "import torch.nn.functional as F\n",
    "import torch.optim as optim\n",
    "from torch.utils.data import TensorDataset, DataLoader\n",
    "\n",
    "import json\n",
    "import numpy as np\n",
    "import datetime\n",
    "from tqdm.notebook import tqdm"
   ]
  },
  {
   "cell_type": "code",
   "execution_count": 2,
   "metadata": {},
   "outputs": [],
   "source": [
    "class LSTMnet(nn.Module):\n",
    "    \"\"\"\n",
    "    LSTM for predicting task id from step scores\n",
    "    \"\"\"\n",
    "    def __init__(self, timesteps, input_dim, output_dim, hidden_dim, bidirectional=False):\n",
    "        super(LSTMnet, self).__init__()\n",
    "        self.timesteps = timesteps\n",
    "        self.hidden_dim = hidden_dim\n",
    "\n",
    "        # The LSTM takes step scores as inputs, and outputs hidden states\n",
    "        # with dimensionality hidden_dim.\n",
    "        self.lstm = nn.LSTM(input_dim, hidden_dim, num_layers=2, dropout=0.2, bidirectional=bidirectional)\n",
    "\n",
    "        # The linear layer that maps from hidden state space to task space\n",
    "        insize = hidden_dim * 2 if bidirectional else hidden_dim\n",
    "        self.hidden2out = nn.Linear(insize, output_dim)\n",
    "\n",
    "    def forward(self, input_feat):\n",
    "        # input_feat shape is (batch_size, feature_dim)\n",
    "        # this is reshaped into shape (batch_size, timesteps, feature_dim // timesteps)\n",
    "        # then converted to (timesteps, batch_size, feature_dim // timesteps)\n",
    "        batch_size = input_feat.size(0)\n",
    "        input_feat = input_feat.reshape(batch_size, self.timesteps, input_feat.size(1) // self.timesteps).transpose(0, 1)\n",
    "        lstm_out, _ = self.lstm(input_feat)\n",
    "        return self.hidden2out(lstm_out[-1])"
   ]
  },
  {
   "cell_type": "code",
   "execution_count": 3,
   "metadata": {},
   "outputs": [],
   "source": [
    "class Trainer:\n",
    "    def __init__ (self, timesteps=10, input_feat_size=30, num_classes=2, hidden_feat_size=128):\n",
    "        \"\"\"\n",
    "        Trainer for the LSTM\n",
    "        \"\"\"\n",
    "        self.net = LSTMnet(timesteps, input_feat_size, num_classes, hidden_feat_size, True)\n",
    "        \n",
    "        self.cuda_flag = torch.cuda.is_available()\n",
    "        if self.cuda_flag:\n",
    "            self.net = self.net.cuda()\n",
    "\n",
    "    def train(self, X, Y, epochs=10, lr=0.001, batch_size=64, decay=5000, logging=True, log_file=None):\n",
    "        \"\"\"\n",
    "        Train the LSTM\n",
    "\n",
    "        Params:\n",
    "        @X: Training data - input of the model\n",
    "        @Y: Training labels\n",
    "        @logging: True for printing the training progress after each epoch\n",
    "        @log_file: Path of log file\n",
    "        \"\"\"        \n",
    "        inputs = torch.FloatTensor(X)\n",
    "        labels = torch.LongTensor(Y)\n",
    "        \n",
    "        train_dataset = TensorDataset(inputs, labels)\n",
    "        trainloader = DataLoader(train_dataset, batch_size=batch_size, shuffle=True)\n",
    "\n",
    "        self.net.train()\n",
    "        criterion = nn.CrossEntropyLoss()\n",
    "\n",
    "        for epoch in range(1, epochs+1): # loop over data multiple times\n",
    "            # Decreasing the learning rate\n",
    "            if (epoch % decay == 0):\n",
    "                lr /= 3\n",
    "                \n",
    "            optimizer = optim.SGD(self.net.parameters(), lr=lr, momentum=0.9)\n",
    "            \n",
    "            tot_loss = 0.0\n",
    "            for data in tqdm(trainloader):\n",
    "                # get the inputs\n",
    "                inputs, labels = data\n",
    "                if self.cuda_flag:\n",
    "                    inputs = inputs.cuda()\n",
    "                    labels = labels.cuda()\n",
    "\n",
    "                # zero the parameter gradients\n",
    "                optimizer.zero_grad()\n",
    "\n",
    "                # forward + backward + optimize\n",
    "                o = self.net(inputs)\n",
    "                loss = criterion(o, labels)\n",
    "\n",
    "                loss.backward()\n",
    "                optimizer.step()\n",
    "                \n",
    "                tot_loss += loss.item()\n",
    "                \n",
    "            tot_loss /= len(trainloader)\n",
    "\n",
    "            # logging statistics\n",
    "            timestamp = str(datetime.datetime.now()).split('.')[0]\n",
    "            log = json.dumps({\n",
    "                'timestamp': timestamp,\n",
    "                'epoch': epoch,\n",
    "                'loss': float('%.7f' % tot_loss),\n",
    "                'lr': float('%.6f' % lr)\n",
    "            })\n",
    "            if logging:\n",
    "                print (log)\n",
    "\n",
    "            if log_file is not None:\n",
    "                with open(log_file, 'a') as f:\n",
    "                    f.write(\"{}\\n\".format(log))\n",
    "            \n",
    "        print ('Finished Training')\n",
    "\n",
    "    def predict(self, inputs):\n",
    "        \"\"\"\n",
    "        Predict the task labels corresponding to the input images\n",
    "        \"\"\"\n",
    "        inputs = torch.FloatTensor(inputs)\n",
    "        if self.cuda_flag:\n",
    "            inputs = inputs.cuda()\n",
    "\n",
    "        self.net.eval()\n",
    "        with torch.no_grad():\n",
    "            labels = self.net(inputs).cpu().numpy()\n",
    "            \n",
    "        return np.argmax(labels, axis=1)\n",
    "\n",
    "    def score(self, X, Y):\n",
    "        \"\"\"\n",
    "        Score the model -- compute accuracy\n",
    "        \"\"\"\n",
    "        pred = self.predict(X)\n",
    "        acc = np.sum(pred == Y) / len(Y)\n",
    "        return float(acc)\n",
    "\n",
    "    def save_model(self, checkpoint_path, model=None):\n",
    "        if model is None: model = self.net\n",
    "        torch.save(model.state_dict(), checkpoint_path)\n",
    "    \n",
    "    def load_model(self, checkpoint_path, model=None):\n",
    "        if model is None: model = self.net\n",
    "        if self.cuda_flag:\n",
    "            model.load_state_dict(torch.load(checkpoint_path))\n",
    "        else:\n",
    "            model.load_state_dict(torch.load(checkpoint_path, map_location=torch.device('cpu')))\n"
   ]
  },
  {
   "cell_type": "markdown",
   "metadata": {},
   "source": [
    "## Get the Data"
   ]
  },
  {
   "cell_type": "code",
   "execution_count": 4,
   "metadata": {},
   "outputs": [
    {
     "name": "stdout",
     "output_type": "stream",
     "text": [
      "Requirement already satisfied: root_numpy in /mnt/e/arpanmangal/anaconda3/envs/tmva/lib/python3.7/site-packages (4.8.0)\n",
      "Note: you may need to restart the kernel to use updated packages.\n",
      "Welcome to JupyROOT 6.21/01\n"
     ]
    }
   ],
   "source": [
    "import pickle\n",
    "import os\n",
    "from subprocess import call\n",
    "\n",
    "%pip install root_numpy\n",
    "from root_numpy import root2array"
   ]
  },
  {
   "cell_type": "code",
   "execution_count": 5,
   "metadata": {},
   "outputs": [],
   "source": [
    "def get_dataset(data_file, test_split=0.2):\n",
    "    \"\"\"\n",
    "    @data_file: path of the root file\n",
    "    @test_split: fraction of data to be used as test set\n",
    "    \"\"\"\n",
    "    assert 0 <= test_split <= 0.3\n",
    "\n",
    "    # Load data\n",
    "    signal = root2array(data_file, 'sgn')\n",
    "    background = root2array(data_file, 'bkg')\n",
    "\n",
    "    tree_data = [\n",
    "        np.array([np.array(list(img)).reshape(-1) for img in signal]),\n",
    "        np.array([np.array(list(img)).reshape(-1) for img in background])\n",
    "    ]\n",
    "\n",
    "    X_train = []\n",
    "    Y_train = []\n",
    "    X_test = []\n",
    "    Y_test = []\n",
    "\n",
    "    # Deterministic Random\n",
    "    np.random.seed(0)\n",
    "\n",
    "    for label, data in enumerate(tree_data):\n",
    "        np.random.shuffle(data)\n",
    "\n",
    "        test_size = int(len(data) * test_split)\n",
    "        X_train.append(data[:-test_size])\n",
    "        X_test.append(data[-test_size:])\n",
    "        Y_train.append([label] * (len(data) - test_size))\n",
    "        Y_test.append([label] * test_size)\n",
    "\n",
    "    X_train = np.concatenate(X_train, axis=0)\n",
    "    X_test = np.concatenate(X_test, axis=0)\n",
    "    Y_train = np.concatenate(Y_train)\n",
    "    Y_test = np.concatenate(Y_test)\n",
    "\n",
    "    assert len(Y_train) == len(X_train)\n",
    "    assert len(Y_test) == len(X_test)\n",
    "\n",
    "    # Shuffling the data\n",
    "    train_perm = np.random.permutation(len(X_train))\n",
    "    X_train = X_train[train_perm]\n",
    "    Y_train = Y_train[train_perm]\n",
    "    \n",
    "    test_perm = np.random.permutation(len(X_test))\n",
    "    X_test = X_test[test_perm]\n",
    "    Y_test = Y_test[test_perm]\n",
    "    \n",
    "    return (X_train, Y_train), (X_test, Y_test)"
   ]
  },
  {
   "cell_type": "code",
   "execution_count": 6,
   "metadata": {},
   "outputs": [],
   "source": [
    "# Load data\n",
    "inputFileName = \"sample_timedata_t10_d30.root\"\n",
    "\n",
    "if not os.path.isfile(inputFileName):\n",
    "    call(['curl', '-o', inputFileName, 'https://cernbox.cern.ch/index.php/s/Pc8SBmHfvU1X0mb/download'])\n",
    "\n",
    "(X_train, Y_train), (X_test, Y_test) = get_dataset(inputFileName, test_split=0.2)"
   ]
  },
  {
   "cell_type": "markdown",
   "metadata": {},
   "source": [
    "## Train the model"
   ]
  },
  {
   "cell_type": "code",
   "execution_count": 7,
   "metadata": {},
   "outputs": [],
   "source": [
    "# Model config\n",
    "lr = 0.001\n",
    "num_epochs = 30\n",
    "batch_size = 64"
   ]
  },
  {
   "cell_type": "code",
   "execution_count": 8,
   "metadata": {
    "scrolled": true
   },
   "outputs": [
    {
     "data": {
      "application/vnd.jupyter.widget-view+json": {
       "model_id": "56fe6c95a0d7460ebed72715b4f0441e",
       "version_major": 2,
       "version_minor": 0
      },
      "text/plain": [
       "HBox(children=(FloatProgress(value=0.0, max=250.0), HTML(value='')))"
      ]
     },
     "metadata": {},
     "output_type": "display_data"
    },
    {
     "name": "stdout",
     "output_type": "stream",
     "text": [
      "\n",
      "{\"timestamp\": \"2020-03-17 21:19:44\", \"epoch\": 1, \"loss\": 0.6636981, \"lr\": 0.001}\n"
     ]
    },
    {
     "data": {
      "application/vnd.jupyter.widget-view+json": {
       "model_id": "62befc614a154fbeb38fba44bcdc651c",
       "version_major": 2,
       "version_minor": 0
      },
      "text/plain": [
       "HBox(children=(FloatProgress(value=0.0, max=250.0), HTML(value='')))"
      ]
     },
     "metadata": {},
     "output_type": "display_data"
    },
    {
     "name": "stdout",
     "output_type": "stream",
     "text": [
      "\n",
      "{\"timestamp\": \"2020-03-17 21:20:02\", \"epoch\": 2, \"loss\": 0.5358954, \"lr\": 0.001}\n"
     ]
    },
    {
     "data": {
      "application/vnd.jupyter.widget-view+json": {
       "model_id": "3cd8055eac1e4d48a2f1ada7bd1ab3df",
       "version_major": 2,
       "version_minor": 0
      },
      "text/plain": [
       "HBox(children=(FloatProgress(value=0.0, max=250.0), HTML(value='')))"
      ]
     },
     "metadata": {},
     "output_type": "display_data"
    },
    {
     "name": "stdout",
     "output_type": "stream",
     "text": [
      "\n",
      "{\"timestamp\": \"2020-03-17 21:20:21\", \"epoch\": 3, \"loss\": 0.4596487, \"lr\": 0.001}\n"
     ]
    },
    {
     "data": {
      "application/vnd.jupyter.widget-view+json": {
       "model_id": "b4fe5bbcf65e4960a1de4ad823c08ad6",
       "version_major": 2,
       "version_minor": 0
      },
      "text/plain": [
       "HBox(children=(FloatProgress(value=0.0, max=250.0), HTML(value='')))"
      ]
     },
     "metadata": {},
     "output_type": "display_data"
    },
    {
     "name": "stdout",
     "output_type": "stream",
     "text": [
      "\n",
      "{\"timestamp\": \"2020-03-17 21:20:40\", \"epoch\": 4, \"loss\": 0.4607354, \"lr\": 0.001}\n"
     ]
    },
    {
     "data": {
      "application/vnd.jupyter.widget-view+json": {
       "model_id": "173638658d8a4dd3a8a4f3752fc2249d",
       "version_major": 2,
       "version_minor": 0
      },
      "text/plain": [
       "HBox(children=(FloatProgress(value=0.0, max=250.0), HTML(value='')))"
      ]
     },
     "metadata": {},
     "output_type": "display_data"
    },
    {
     "name": "stdout",
     "output_type": "stream",
     "text": [
      "\n",
      "{\"timestamp\": \"2020-03-17 21:20:59\", \"epoch\": 5, \"loss\": 0.4407651, \"lr\": 0.001}\n"
     ]
    },
    {
     "data": {
      "application/vnd.jupyter.widget-view+json": {
       "model_id": "a7fb488fa767405780809fe3fca5a022",
       "version_major": 2,
       "version_minor": 0
      },
      "text/plain": [
       "HBox(children=(FloatProgress(value=0.0, max=250.0), HTML(value='')))"
      ]
     },
     "metadata": {},
     "output_type": "display_data"
    },
    {
     "name": "stdout",
     "output_type": "stream",
     "text": [
      "\n",
      "{\"timestamp\": \"2020-03-17 21:21:18\", \"epoch\": 6, \"loss\": 0.4324736, \"lr\": 0.001}\n"
     ]
    },
    {
     "data": {
      "application/vnd.jupyter.widget-view+json": {
       "model_id": "ea503916b1124c489db3427b3cc12a2a",
       "version_major": 2,
       "version_minor": 0
      },
      "text/plain": [
       "HBox(children=(FloatProgress(value=0.0, max=250.0), HTML(value='')))"
      ]
     },
     "metadata": {},
     "output_type": "display_data"
    },
    {
     "name": "stdout",
     "output_type": "stream",
     "text": [
      "\n",
      "{\"timestamp\": \"2020-03-17 21:21:36\", \"epoch\": 7, \"loss\": 0.4196834, \"lr\": 0.001}\n"
     ]
    },
    {
     "data": {
      "application/vnd.jupyter.widget-view+json": {
       "model_id": "7b9c314d84dd465393fa33e80dda2d38",
       "version_major": 2,
       "version_minor": 0
      },
      "text/plain": [
       "HBox(children=(FloatProgress(value=0.0, max=250.0), HTML(value='')))"
      ]
     },
     "metadata": {},
     "output_type": "display_data"
    },
    {
     "name": "stdout",
     "output_type": "stream",
     "text": [
      "\n",
      "{\"timestamp\": \"2020-03-17 21:21:55\", \"epoch\": 8, \"loss\": 0.411794, \"lr\": 0.001}\n"
     ]
    },
    {
     "data": {
      "application/vnd.jupyter.widget-view+json": {
       "model_id": "721e0e36a5d74451864e11a5c536a6fb",
       "version_major": 2,
       "version_minor": 0
      },
      "text/plain": [
       "HBox(children=(FloatProgress(value=0.0, max=250.0), HTML(value='')))"
      ]
     },
     "metadata": {},
     "output_type": "display_data"
    },
    {
     "name": "stdout",
     "output_type": "stream",
     "text": [
      "\n",
      "{\"timestamp\": \"2020-03-17 21:22:14\", \"epoch\": 9, \"loss\": 0.4052742, \"lr\": 0.001}\n"
     ]
    },
    {
     "data": {
      "application/vnd.jupyter.widget-view+json": {
       "model_id": "addf8fd62e4943d28d15fd62560a6465",
       "version_major": 2,
       "version_minor": 0
      },
      "text/plain": [
       "HBox(children=(FloatProgress(value=0.0, max=250.0), HTML(value='')))"
      ]
     },
     "metadata": {},
     "output_type": "display_data"
    },
    {
     "name": "stdout",
     "output_type": "stream",
     "text": [
      "\n",
      "{\"timestamp\": \"2020-03-17 21:22:32\", \"epoch\": 10, \"loss\": 0.3849149, \"lr\": 0.000333}\n"
     ]
    },
    {
     "data": {
      "application/vnd.jupyter.widget-view+json": {
       "model_id": "14460a7ddb874ac1a66d445ae9d23626",
       "version_major": 2,
       "version_minor": 0
      },
      "text/plain": [
       "HBox(children=(FloatProgress(value=0.0, max=250.0), HTML(value='')))"
      ]
     },
     "metadata": {},
     "output_type": "display_data"
    },
    {
     "name": "stdout",
     "output_type": "stream",
     "text": [
      "\n",
      "{\"timestamp\": \"2020-03-17 21:22:51\", \"epoch\": 11, \"loss\": 0.3784899, \"lr\": 0.000333}\n"
     ]
    },
    {
     "data": {
      "application/vnd.jupyter.widget-view+json": {
       "model_id": "d608a94648174c9ebc9ddace4533cf2c",
       "version_major": 2,
       "version_minor": 0
      },
      "text/plain": [
       "HBox(children=(FloatProgress(value=0.0, max=250.0), HTML(value='')))"
      ]
     },
     "metadata": {},
     "output_type": "display_data"
    },
    {
     "name": "stdout",
     "output_type": "stream",
     "text": [
      "\n",
      "{\"timestamp\": \"2020-03-17 21:23:10\", \"epoch\": 12, \"loss\": 0.3717675, \"lr\": 0.000333}\n"
     ]
    },
    {
     "data": {
      "application/vnd.jupyter.widget-view+json": {
       "model_id": "5a9d4d57fb924639ac31cb327e50b9ed",
       "version_major": 2,
       "version_minor": 0
      },
      "text/plain": [
       "HBox(children=(FloatProgress(value=0.0, max=250.0), HTML(value='')))"
      ]
     },
     "metadata": {},
     "output_type": "display_data"
    },
    {
     "name": "stdout",
     "output_type": "stream",
     "text": [
      "\n",
      "{\"timestamp\": \"2020-03-17 21:23:29\", \"epoch\": 13, \"loss\": 0.3687891, \"lr\": 0.000333}\n"
     ]
    },
    {
     "data": {
      "application/vnd.jupyter.widget-view+json": {
       "model_id": "a5ee138dfb124bb38a00e98f2a6eb84a",
       "version_major": 2,
       "version_minor": 0
      },
      "text/plain": [
       "HBox(children=(FloatProgress(value=0.0, max=250.0), HTML(value='')))"
      ]
     },
     "metadata": {},
     "output_type": "display_data"
    },
    {
     "name": "stdout",
     "output_type": "stream",
     "text": [
      "\n",
      "{\"timestamp\": \"2020-03-17 21:23:48\", \"epoch\": 14, \"loss\": 0.360205, \"lr\": 0.000333}\n"
     ]
    },
    {
     "data": {
      "application/vnd.jupyter.widget-view+json": {
       "model_id": "e5c4ddb9bd2f495e8e14c455594e7cf1",
       "version_major": 2,
       "version_minor": 0
      },
      "text/plain": [
       "HBox(children=(FloatProgress(value=0.0, max=250.0), HTML(value='')))"
      ]
     },
     "metadata": {},
     "output_type": "display_data"
    },
    {
     "name": "stdout",
     "output_type": "stream",
     "text": [
      "\n",
      "{\"timestamp\": \"2020-03-17 21:24:07\", \"epoch\": 15, \"loss\": 0.3629168, \"lr\": 0.000333}\n"
     ]
    },
    {
     "data": {
      "application/vnd.jupyter.widget-view+json": {
       "model_id": "5ba9554ba7c545c1a73472018110c827",
       "version_major": 2,
       "version_minor": 0
      },
      "text/plain": [
       "HBox(children=(FloatProgress(value=0.0, max=250.0), HTML(value='')))"
      ]
     },
     "metadata": {},
     "output_type": "display_data"
    },
    {
     "name": "stdout",
     "output_type": "stream",
     "text": [
      "\n",
      "{\"timestamp\": \"2020-03-17 21:24:25\", \"epoch\": 16, \"loss\": 0.3604168, \"lr\": 0.000333}\n"
     ]
    },
    {
     "data": {
      "application/vnd.jupyter.widget-view+json": {
       "model_id": "0cf8a7cd96254c7d88ba3f713ccff204",
       "version_major": 2,
       "version_minor": 0
      },
      "text/plain": [
       "HBox(children=(FloatProgress(value=0.0, max=250.0), HTML(value='')))"
      ]
     },
     "metadata": {},
     "output_type": "display_data"
    },
    {
     "name": "stdout",
     "output_type": "stream",
     "text": [
      "\n",
      "{\"timestamp\": \"2020-03-17 21:24:44\", \"epoch\": 17, \"loss\": 0.359501, \"lr\": 0.000333}\n"
     ]
    },
    {
     "data": {
      "application/vnd.jupyter.widget-view+json": {
       "model_id": "d01fc17dd0b1402085412a70f9d0a298",
       "version_major": 2,
       "version_minor": 0
      },
      "text/plain": [
       "HBox(children=(FloatProgress(value=0.0, max=250.0), HTML(value='')))"
      ]
     },
     "metadata": {},
     "output_type": "display_data"
    },
    {
     "name": "stdout",
     "output_type": "stream",
     "text": [
      "\n",
      "{\"timestamp\": \"2020-03-17 21:25:03\", \"epoch\": 18, \"loss\": 0.3546436, \"lr\": 0.000333}\n"
     ]
    },
    {
     "data": {
      "application/vnd.jupyter.widget-view+json": {
       "model_id": "367ed8ad0dc0403b82d49baf346bd1bc",
       "version_major": 2,
       "version_minor": 0
      },
      "text/plain": [
       "HBox(children=(FloatProgress(value=0.0, max=250.0), HTML(value='')))"
      ]
     },
     "metadata": {},
     "output_type": "display_data"
    },
    {
     "name": "stdout",
     "output_type": "stream",
     "text": [
      "\n",
      "{\"timestamp\": \"2020-03-17 21:25:22\", \"epoch\": 19, \"loss\": 0.3557539, \"lr\": 0.000333}\n"
     ]
    },
    {
     "data": {
      "application/vnd.jupyter.widget-view+json": {
       "model_id": "5d6981b188f545968ae80d3596551b73",
       "version_major": 2,
       "version_minor": 0
      },
      "text/plain": [
       "HBox(children=(FloatProgress(value=0.0, max=250.0), HTML(value='')))"
      ]
     },
     "metadata": {},
     "output_type": "display_data"
    },
    {
     "name": "stdout",
     "output_type": "stream",
     "text": [
      "\n",
      "{\"timestamp\": \"2020-03-17 21:25:41\", \"epoch\": 20, \"loss\": 0.3451105, \"lr\": 0.000111}\n"
     ]
    },
    {
     "data": {
      "application/vnd.jupyter.widget-view+json": {
       "model_id": "75c1fce4c88d4b58a97b62c8059ea4d9",
       "version_major": 2,
       "version_minor": 0
      },
      "text/plain": [
       "HBox(children=(FloatProgress(value=0.0, max=250.0), HTML(value='')))"
      ]
     },
     "metadata": {},
     "output_type": "display_data"
    },
    {
     "name": "stdout",
     "output_type": "stream",
     "text": [
      "\n",
      "{\"timestamp\": \"2020-03-17 21:26:00\", \"epoch\": 21, \"loss\": 0.3433382, \"lr\": 0.000111}\n"
     ]
    },
    {
     "data": {
      "application/vnd.jupyter.widget-view+json": {
       "model_id": "c6ce94091ce9407d85aef832cf9ed6ee",
       "version_major": 2,
       "version_minor": 0
      },
      "text/plain": [
       "HBox(children=(FloatProgress(value=0.0, max=250.0), HTML(value='')))"
      ]
     },
     "metadata": {},
     "output_type": "display_data"
    },
    {
     "name": "stdout",
     "output_type": "stream",
     "text": [
      "\n",
      "{\"timestamp\": \"2020-03-17 21:26:18\", \"epoch\": 22, \"loss\": 0.3453094, \"lr\": 0.000111}\n"
     ]
    },
    {
     "data": {
      "application/vnd.jupyter.widget-view+json": {
       "model_id": "f191c2c7ff524178ac7ae02b68979141",
       "version_major": 2,
       "version_minor": 0
      },
      "text/plain": [
       "HBox(children=(FloatProgress(value=0.0, max=250.0), HTML(value='')))"
      ]
     },
     "metadata": {},
     "output_type": "display_data"
    },
    {
     "name": "stdout",
     "output_type": "stream",
     "text": [
      "\n",
      "{\"timestamp\": \"2020-03-17 21:26:37\", \"epoch\": 23, \"loss\": 0.3416147, \"lr\": 0.000111}\n"
     ]
    },
    {
     "data": {
      "application/vnd.jupyter.widget-view+json": {
       "model_id": "5595d3f730a146eb86540d8699c1c1fa",
       "version_major": 2,
       "version_minor": 0
      },
      "text/plain": [
       "HBox(children=(FloatProgress(value=0.0, max=250.0), HTML(value='')))"
      ]
     },
     "metadata": {},
     "output_type": "display_data"
    },
    {
     "name": "stdout",
     "output_type": "stream",
     "text": [
      "\n",
      "{\"timestamp\": \"2020-03-17 21:26:56\", \"epoch\": 24, \"loss\": 0.3444362, \"lr\": 0.000111}\n"
     ]
    },
    {
     "data": {
      "application/vnd.jupyter.widget-view+json": {
       "model_id": "06606542f5f246ada7ad79cdcb6ed6d7",
       "version_major": 2,
       "version_minor": 0
      },
      "text/plain": [
       "HBox(children=(FloatProgress(value=0.0, max=250.0), HTML(value='')))"
      ]
     },
     "metadata": {},
     "output_type": "display_data"
    },
    {
     "name": "stdout",
     "output_type": "stream",
     "text": [
      "\n",
      "{\"timestamp\": \"2020-03-17 21:27:15\", \"epoch\": 25, \"loss\": 0.3437231, \"lr\": 0.000111}\n"
     ]
    },
    {
     "data": {
      "application/vnd.jupyter.widget-view+json": {
       "model_id": "930cefc3ba804538b7d766e67a51b53b",
       "version_major": 2,
       "version_minor": 0
      },
      "text/plain": [
       "HBox(children=(FloatProgress(value=0.0, max=250.0), HTML(value='')))"
      ]
     },
     "metadata": {},
     "output_type": "display_data"
    },
    {
     "name": "stdout",
     "output_type": "stream",
     "text": [
      "\n",
      "{\"timestamp\": \"2020-03-17 21:27:34\", \"epoch\": 26, \"loss\": 0.3422212, \"lr\": 0.000111}\n"
     ]
    },
    {
     "data": {
      "application/vnd.jupyter.widget-view+json": {
       "model_id": "3a9a888369cd4be19e6952d65f9108ab",
       "version_major": 2,
       "version_minor": 0
      },
      "text/plain": [
       "HBox(children=(FloatProgress(value=0.0, max=250.0), HTML(value='')))"
      ]
     },
     "metadata": {},
     "output_type": "display_data"
    },
    {
     "name": "stdout",
     "output_type": "stream",
     "text": [
      "\n",
      "{\"timestamp\": \"2020-03-17 21:27:53\", \"epoch\": 27, \"loss\": 0.3406938, \"lr\": 0.000111}\n"
     ]
    },
    {
     "data": {
      "application/vnd.jupyter.widget-view+json": {
       "model_id": "c4b73e2c5b0a4194b5434d8049ef3700",
       "version_major": 2,
       "version_minor": 0
      },
      "text/plain": [
       "HBox(children=(FloatProgress(value=0.0, max=250.0), HTML(value='')))"
      ]
     },
     "metadata": {},
     "output_type": "display_data"
    },
    {
     "name": "stdout",
     "output_type": "stream",
     "text": [
      "\n",
      "{\"timestamp\": \"2020-03-17 21:28:12\", \"epoch\": 28, \"loss\": 0.3401629, \"lr\": 0.000111}\n"
     ]
    },
    {
     "data": {
      "application/vnd.jupyter.widget-view+json": {
       "model_id": "000f7722517749ff911a1b070ede5e16",
       "version_major": 2,
       "version_minor": 0
      },
      "text/plain": [
       "HBox(children=(FloatProgress(value=0.0, max=250.0), HTML(value='')))"
      ]
     },
     "metadata": {},
     "output_type": "display_data"
    },
    {
     "name": "stdout",
     "output_type": "stream",
     "text": [
      "\n",
      "{\"timestamp\": \"2020-03-17 21:28:31\", \"epoch\": 29, \"loss\": 0.3397181, \"lr\": 0.000111}\n"
     ]
    },
    {
     "data": {
      "application/vnd.jupyter.widget-view+json": {
       "model_id": "a3ab587d361942858e7ef99da2edc47c",
       "version_major": 2,
       "version_minor": 0
      },
      "text/plain": [
       "HBox(children=(FloatProgress(value=0.0, max=250.0), HTML(value='')))"
      ]
     },
     "metadata": {},
     "output_type": "display_data"
    },
    {
     "name": "stdout",
     "output_type": "stream",
     "text": [
      "\n",
      "{\"timestamp\": \"2020-03-17 21:28:50\", \"epoch\": 30, \"loss\": 0.3385941, \"lr\": 3.7e-05}\n",
      "Finished Training\n"
     ]
    }
   ],
   "source": [
    "trainer = Trainer(10, 30, 2, 256)\n",
    "trainer.train(X_train, Y_train, lr=lr, epochs=num_epochs, batch_size=batch_size, decay=10)\n",
    "trainer.save_model('model_LSTM.pth')"
   ]
  },
  {
   "cell_type": "markdown",
   "metadata": {},
   "source": [
    "## Test the model"
   ]
  },
  {
   "cell_type": "code",
   "execution_count": 9,
   "metadata": {},
   "outputs": [
    {
     "name": "stdout",
     "output_type": "stream",
     "text": [
      "Evaluating...\n",
      "Training Acc.: 86.0500 %\n",
      "Test Acc.    : 83.9500 %\n"
     ]
    }
   ],
   "source": [
    "print ('Evaluating...')\n",
    "print ('Training Acc.: {:.4f} %'.format(trainer.score(X_train, Y_train) * 100))\n",
    "print ('Test Acc.    : {:.4f} %'.format(trainer.score(X_test, Y_test) * 100))"
   ]
  }
 ],
 "metadata": {
  "kernelspec": {
   "display_name": "Python 3",
   "language": "python",
   "name": "python3"
  },
  "language_info": {
   "codemirror_mode": {
    "name": "ipython",
    "version": 3
   },
   "file_extension": ".py",
   "mimetype": "text/x-python",
   "name": "python",
   "nbconvert_exporter": "python",
   "pygments_lexer": "ipython3",
   "version": "3.7.6"
  }
 },
 "nbformat": 4,
 "nbformat_minor": 4
}
