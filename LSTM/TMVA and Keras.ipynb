{
 "cells": [
  {
   "cell_type": "markdown",
   "metadata": {},
   "source": [
    "# TMVA Classification \n",
    "\n",
    "This notebook is a basic example for training and testing LSTM model with TMVA and TMVA-Keras."
   ]
  },
  {
   "cell_type": "markdown",
   "metadata": {},
   "source": [
    "## Declare Factory class"
   ]
  },
  {
   "cell_type": "code",
   "execution_count": 14,
   "metadata": {},
   "outputs": [],
   "source": [
    "import ROOT\n",
    "from ROOT import TMVA\n",
    "from subprocess import call\n",
    "import os "
   ]
  },
  {
   "cell_type": "code",
   "execution_count": 15,
   "metadata": {},
   "outputs": [],
   "source": [
    "ROOT.TMVA.Tools.Instance()\n",
    "TMVA.PyMethodBase.PyInitialize()\n",
    "\n",
    "## For PYMVA methods\n",
    "TMVA.PyMethodBase.PyInitialize();\n",
    "\n",
    "\n",
    "outputFile = ROOT.TFile.Open(\"LSTM_ClassificationOutput.root\", \"RECREATE\")\n",
    "\n",
    "factory = ROOT.TMVA.Factory(\"TMVA_LSTM_Classification\", outputFile,\n",
    "                      \"!V:ROC:Silent:Color:!DrawProgressBar:AnalysisType=Classification\" )"
   ]
  },
  {
   "cell_type": "markdown",
   "metadata": {},
   "source": [
    "## Declare DataLoader(s)\n",
    "\n",
    "Next we get the data and declare the DataLoader class.\n",
    "\n",
    "In this case the input data consists of an image of 32x32 pixels. Each ROOT TTree contains a single branch containg a vector of size 1024 denoting the image pixels."
   ]
  },
  {
   "cell_type": "code",
   "execution_count": 16,
   "metadata": {},
   "outputs": [],
   "source": [
    "# Load data\n",
    "inputFileName = \"sample_timedata_t10_d30.root\"\n",
    "\n",
    "if not os.path.isfile(inputFileName):\n",
    "    call(['curl', '-o', inputFileName, 'https://cernbox.cern.ch/index.php/s/Pc8SBmHfvU1X0mb/download'])"
   ]
  },
  {
   "cell_type": "code",
   "execution_count": 17,
   "metadata": {
    "scrolled": true
   },
   "outputs": [
    {
     "name": "stdout",
     "output_type": "stream",
     "text": [
      "******************************************************************************\n",
      "*Tree    :sgn       : sgn                                                    *\n",
      "*Entries :    10000 : Total =        13449901 bytes  File  Size =   11259262 *\n",
      "*        :          : Tree compression factor =   1.19                       *\n",
      "******************************************************************************\n",
      "*Br    0 :vars_time0 : vector<float>                                         *\n",
      "*Entries :    10000 : Total  Size=    1344905 bytes  File Size  =    1124641 *\n",
      "*Baskets :       44 : Basket Size=      32000 bytes  Compression=   1.19     *\n",
      "*............................................................................*\n",
      "*Br    1 :vars_time1 : vector<float>                                         *\n",
      "*Entries :    10000 : Total  Size=    1344905 bytes  File Size  =    1124831 *\n",
      "*Baskets :       44 : Basket Size=      32000 bytes  Compression=   1.19     *\n",
      "*............................................................................*\n",
      "*Br    2 :vars_time2 : vector<float>                                         *\n",
      "*Entries :    10000 : Total  Size=    1344905 bytes  File Size  =    1124795 *\n",
      "*Baskets :       44 : Basket Size=      32000 bytes  Compression=   1.19     *\n",
      "*............................................................................*\n",
      "*Br    3 :vars_time3 : vector<float>                                         *\n",
      "*Entries :    10000 : Total  Size=    1344905 bytes  File Size  =    1124957 *\n",
      "*Baskets :       44 : Basket Size=      32000 bytes  Compression=   1.19     *\n",
      "*............................................................................*\n",
      "*Br    4 :vars_time4 : vector<float>                                         *\n",
      "*Entries :    10000 : Total  Size=    1344905 bytes  File Size  =    1125231 *\n",
      "*Baskets :       44 : Basket Size=      32000 bytes  Compression=   1.19     *\n",
      "*............................................................................*\n",
      "*Br    5 :vars_time5 : vector<float>                                         *\n",
      "*Entries :    10000 : Total  Size=    1344905 bytes  File Size  =    1125490 *\n",
      "*Baskets :       44 : Basket Size=      32000 bytes  Compression=   1.19     *\n",
      "*............................................................................*\n",
      "*Br    6 :vars_time6 : vector<float>                                         *\n",
      "*Entries :    10000 : Total  Size=    1344905 bytes  File Size  =    1125859 *\n",
      "*Baskets :       44 : Basket Size=      32000 bytes  Compression=   1.19     *\n",
      "*............................................................................*\n",
      "*Br    7 :vars_time7 : vector<float>                                         *\n",
      "*Entries :    10000 : Total  Size=    1344905 bytes  File Size  =    1126194 *\n",
      "*Baskets :       44 : Basket Size=      32000 bytes  Compression=   1.19     *\n",
      "*............................................................................*\n",
      "*Br    8 :vars_time8 : vector<float>                                         *\n",
      "*Entries :    10000 : Total  Size=    1344905 bytes  File Size  =    1126571 *\n",
      "*Baskets :       44 : Basket Size=      32000 bytes  Compression=   1.19     *\n",
      "*............................................................................*\n",
      "*Br    9 :vars_time9 : vector<float>                                         *\n",
      "*Entries :    10000 : Total  Size=    1344905 bytes  File Size  =    1126862 *\n",
      "*Baskets :       44 : Basket Size=      32000 bytes  Compression=   1.19     *\n",
      "*............................................................................*\n"
     ]
    }
   ],
   "source": [
    "inputFile = ROOT.TFile.Open( inputFileName )\n",
    "\n",
    "# retrieve input trees\n",
    "signalTree     = inputFile.Get(\"sgn\")\n",
    "backgroundTree = inputFile.Get(\"bkg\")\n",
    "\n",
    "signalTree.Print()"
   ]
  },
  {
   "cell_type": "code",
   "execution_count": 18,
   "metadata": {},
   "outputs": [
    {
     "name": "stdout",
     "output_type": "stream",
     "text": [
      "create data set info dataset\n"
     ]
    }
   ],
   "source": [
    "dataloader = TMVA.DataLoader('dataset')\n",
    "\n",
    "### Adding the trees\n",
    "dataloader.AddSignalTree(signalTree, 1.0)\n",
    "dataloader.AddBackgroundTree(backgroundTree, 1.0)\n",
    "\n",
    "# Add variables\n",
    "# Keras LSTM expects input of shape (None, timesteps, input_feat_dim)\n",
    "timesteps = 10\n",
    "feat_dim = 30\n",
    "for t in range(timesteps):\n",
    "    for i in range(feat_dim):\n",
    "        varName = \"var_{} := vars_time{}[{}]\".format(t * feat_dim + i, t, i)\n",
    "        dataloader.AddVariable(varName, 'F')\n",
    "        \n",
    "dataloader.PrepareTrainingAndTestTree( ROOT.TCut(''), ROOT.TCut(''),\n",
    "                                  \"nTrain_Signal=8000:nTrain_Background=8000:SplitMode=Random:\"\n",
    "                                   \"NormMode=NumEvents:!V\" )"
   ]
  },
  {
   "cell_type": "markdown",
   "metadata": {},
   "source": [
    "# Booking Methods\n",
    "\n",
    "Here we book the TMVA and TMVA-Keras methods."
   ]
  },
  {
   "cell_type": "markdown",
   "metadata": {},
   "source": [
    "### Book LSTM Network in TMVA"
   ]
  },
  {
   "cell_type": "code",
   "execution_count": 19,
   "metadata": {
    "scrolled": true
   },
   "outputs": [],
   "source": [
    "# #input layout \n",
    "# inputLayoutString = \"InputLayout=10|1|30\"\n",
    "                                                                           \n",
    "# ## Batch Layout                                                                                                                                     \n",
    "# batchLayoutString = \"BatchLayout=67|1|300\"\n",
    "                                                   \n",
    "# layoutString = (\"Layout=RESHAPE|10|1|30,RNN|95|30|10,RESHAPE|FLAT,DENSE|64|TANH,DENSE|1|TANH\")\n",
    "\n",
    "# ##Training strategies.                                                                                                                          \n",
    "# training1 = (\"LearningRate=0.0003,Momentum=0.9,Repetitions=1,\"\n",
    "#                      \"ConvergenceSteps=10,BatchSize=67,TestRepetitions=1,\"\n",
    "#                      \"MaxEpochs=1,WeightDecay=1e-4,Regularization=None,\"\n",
    "#                      \"Optimizer=SGD,DropConfig=0.0+0.0+0.0+0.0\")\n",
    " \n",
    "# trainingStrategyString = \"TrainingStrategy=\" + training1\n",
    "    \n",
    "# ## General Options.                                                                                                                              \n",
    "# rnnOptions = (\"!H:V:ErrorStrategy=CROSSENTROPY:VarTransform=None:\"\n",
    "#                        \"WeightInitialization=XAVIERUNIFORM\")\n",
    "\n",
    "# # rnnOptions +=  \":\" + inputLayoutString\n",
    "# rnnOptions +=  \":\" + batchLayoutString\n",
    "# rnnOptions +=  \":\" + layoutString\n",
    "# rnnOptions +=  \":\" + trainingStrategyString\n",
    "# rnnOptions +=  \":Architecture=CPU\"\n",
    "\n",
    "# ##book CNN\n",
    "# factory.BookMethod(dataloader, TMVA.Types.kDL, \"DL_RNN\", rnnOptions)"
   ]
  },
  {
   "cell_type": "markdown",
   "metadata": {},
   "source": [
    "### Book LSTM Network in Keras"
   ]
  },
  {
   "cell_type": "code",
   "execution_count": 20,
   "metadata": {},
   "outputs": [],
   "source": [
    "## to use tensorflow backend\n",
    "import os\n",
    "os.environ[\"KERAS_BACKEND\"] = \"tensorflow\""
   ]
  },
  {
   "cell_type": "code",
   "execution_count": 21,
   "metadata": {},
   "outputs": [],
   "source": [
    "from keras.models import Sequential\n",
    "from keras.layers import Dense, Activation, Reshape\n",
    "from keras.layers import Dense, Dropout, Embedding, LSTM, Bidirectional\n",
    "from keras.optimizers import SGD"
   ]
  },
  {
   "cell_type": "code",
   "execution_count": 22,
   "metadata": {},
   "outputs": [
    {
     "name": "stdout",
     "output_type": "stream",
     "text": [
      "Model: \"sequential_2\"\n",
      "_________________________________________________________________\n",
      "Layer (type)                 Output Shape              Param #   \n",
      "=================================================================\n",
      "reshape_2 (Reshape)          (None, 10, 30)            0         \n",
      "_________________________________________________________________\n",
      "bidirectional_3 (Bidirection (None, 10, 512)           587776    \n",
      "_________________________________________________________________\n",
      "bidirectional_4 (Bidirection (None, 512)               1574912   \n",
      "_________________________________________________________________\n",
      "dropout_2 (Dropout)          (None, 512)               0         \n",
      "_________________________________________________________________\n",
      "dense_2 (Dense)              (None, 2)                 1026      \n",
      "=================================================================\n",
      "Total params: 2,163,714\n",
      "Trainable params: 2,163,714\n",
      "Non-trainable params: 0\n",
      "_________________________________________________________________\n"
     ]
    }
   ],
   "source": [
    "# Generate model\n",
    "hidden_dim = 256\n",
    "batch_size = 64\n",
    "epochs = 6\n",
    "\n",
    "# Define model\n",
    "model = Sequential()\n",
    "model.add(Reshape((timesteps, feat_dim), input_shape=(timesteps * feat_dim,)))\n",
    "model.add(Bidirectional(LSTM(hidden_dim, return_sequences=True)))\n",
    "model.add(Bidirectional(LSTM(hidden_dim)))\n",
    "model.add(Dropout(0.2))\n",
    "model.add(Dense(2, activation='softmax'))\n",
    "\n",
    "# Set loss and optimizer\n",
    "model.compile('adam', 'categorical_crossentropy', metrics=['accuracy'])\n",
    "\n",
    "# model.compile(loss='categorical_crossentropy',\n",
    "#               optimizer=SGD(lr=0.001, decay=1e-6, momentum=0.9),\n",
    "#               metrics=['accuracy'])\n",
    "\n",
    "# Store model to file\n",
    "model.save('model_lstm.h5')\n",
    "model.summary()"
   ]
  },
  {
   "cell_type": "code",
   "execution_count": 23,
   "metadata": {},
   "outputs": [
    {
     "data": {
      "text/plain": [
       "<cppyy.gbl.TMVA.MethodPyKeras object at 0x7f700ad2f9f0>"
      ]
     },
     "execution_count": 23,
     "metadata": {},
     "output_type": "execute_result"
    }
   ],
   "source": [
    "# Book method\n",
    "factory.BookMethod(dataloader, TMVA.Types.kPyKeras, 'PyKeras',\n",
    "                   'H:!V:VarTransform=None:FilenameModel=model_lstm.h5:'\n",
    "                   'FileNameTrainedModel=trained_model_lstm.h5:NumEpochs={}:BatchSize={}'.format(epochs, batch_size))"
   ]
  },
  {
   "cell_type": "markdown",
   "metadata": {},
   "source": [
    "## Train Methods"
   ]
  },
  {
   "cell_type": "code",
   "execution_count": 24,
   "metadata": {
    "scrolled": true
   },
   "outputs": [
    {
     "name": "stdout",
     "output_type": "stream",
     "text": [
      "Model: \"sequential_2\"\n",
      "_________________________________________________________________\n",
      "Layer (type)                 Output Shape              Param #   \n",
      "=================================================================\n",
      "reshape_2 (Reshape)          (None, 10, 30)            0         \n",
      "_________________________________________________________________\n",
      "bidirectional_3 (Bidirection (None, 10, 512)           587776    \n",
      "_________________________________________________________________\n",
      "bidirectional_4 (Bidirection (None, 512)               1574912   \n",
      "_________________________________________________________________\n",
      "dropout_2 (Dropout)          (None, 512)               0         \n",
      "_________________________________________________________________\n",
      "dense_2 (Dense)              (None, 2)                 1026      \n",
      "=================================================================\n",
      "Total params: 2,163,714\n",
      "Trainable params: 2,163,714\n",
      "Non-trainable params: 0\n",
      "_________________________________________________________________\n",
      "Train on 12800 samples, validate on 3200 samples\n",
      "Epoch 1/6\n",
      "12800/12800 [==============================] - 56s 4ms/step - loss: 0.4732 - accuracy: 0.7742 - val_loss: 0.4068 - val_accuracy: 0.8103\n",
      "\n",
      "Epoch 00001: val_loss improved from inf to 0.40683, saving model to trained_model_lstm.h5\n",
      "Epoch 2/6\n",
      "12800/12800 [==============================] - 53s 4ms/step - loss: 0.3944 - accuracy: 0.8214 - val_loss: 0.3695 - val_accuracy: 0.8331\n",
      "\n",
      "Epoch 00002: val_loss improved from 0.40683 to 0.36952, saving model to trained_model_lstm.h5\n",
      "Epoch 3/6\n",
      "12800/12800 [==============================] - 53s 4ms/step - loss: 0.3706 - accuracy: 0.8363 - val_loss: 0.3712 - val_accuracy: 0.8363\n",
      "\n",
      "Epoch 00003: val_loss did not improve from 0.36952\n",
      "Epoch 4/6\n",
      "12800/12800 [==============================] - 53s 4ms/step - loss: 0.3726 - accuracy: 0.8347 - val_loss: 0.3578 - val_accuracy: 0.8400\n",
      "\n",
      "Epoch 00004: val_loss improved from 0.36952 to 0.35780, saving model to trained_model_lstm.h5\n",
      "Epoch 5/6\n",
      "12800/12800 [==============================] - 53s 4ms/step - loss: 0.3772 - accuracy: 0.8295 - val_loss: 0.3549 - val_accuracy: 0.8400\n",
      "\n",
      "Epoch 00005: val_loss improved from 0.35780 to 0.35485, saving model to trained_model_lstm.h5\n",
      "Epoch 6/6\n",
      "12800/12800 [==============================] - 54s 4ms/step - loss: 0.3735 - accuracy: 0.8352 - val_loss: 0.3723 - val_accuracy: 0.8313\n",
      "\n",
      "Epoch 00006: val_loss did not improve from 0.35485\n",
      "TH1.Print Name  = TrainingHistory_PyKeras_'accuracy', Entries= 0, Total sum= 4.93117\n",
      "TH1.Print Name  = TrainingHistory_PyKeras_'loss', Entries= 0, Total sum= 2.36162\n",
      "TH1.Print Name  = TrainingHistory_PyKeras_'val_accuracy', Entries= 0, Total sum= 4.99094\n",
      "TH1.Print Name  = TrainingHistory_PyKeras_'val_loss', Entries= 0, Total sum= 2.23253\n"
     ]
    }
   ],
   "source": [
    "factory.TrainAllMethods()"
   ]
  },
  {
   "cell_type": "markdown",
   "metadata": {},
   "source": [
    "## Test and Evaluate Methods"
   ]
  },
  {
   "cell_type": "code",
   "execution_count": 25,
   "metadata": {},
   "outputs": [],
   "source": [
    "factory.TestAllMethods()"
   ]
  },
  {
   "cell_type": "code",
   "execution_count": 26,
   "metadata": {},
   "outputs": [
    {
     "name": "stdout",
     "output_type": "stream",
     "text": [
      "                         : \n",
      "                         : Evaluation results ranked by best signal efficiency and purity (area)\n",
      "                         : -------------------------------------------------------------------------------------------------------------------\n",
      "                         : DataSet       MVA                       \n",
      "                         : Name:         Method:          ROC-integ\n",
      "                         : dataset       PyKeras        : 0.927\n",
      "                         : -------------------------------------------------------------------------------------------------------------------\n",
      "                         : \n",
      "                         : Testing efficiency compared to training efficiency (overtraining check)\n",
      "                         : -------------------------------------------------------------------------------------------------------------------\n",
      "                         : DataSet              MVA              Signal efficiency: from test sample (from training sample) \n",
      "                         : Name:                Method:          @B=0.01             @B=0.10            @B=0.30   \n",
      "                         : -------------------------------------------------------------------------------------------------------------------\n",
      "                         : dataset              PyKeras        : 0.388 (0.379)       0.778 (0.777)      0.941 (0.938)\n",
      "                         : -------------------------------------------------------------------------------------------------------------------\n",
      "                         : \n"
     ]
    }
   ],
   "source": [
    "factory.EvaluateAllMethods()"
   ]
  },
  {
   "cell_type": "markdown",
   "metadata": {},
   "source": [
    "## Plot ROC Curve\n",
    "\n",
    "We plot here the produce ROC curve obtained on evaluating the methods on the test data set"
   ]
  },
  {
   "cell_type": "code",
   "execution_count": 27,
   "metadata": {},
   "outputs": [],
   "source": [
    "# //We enable JavaScript visualisation for the plots\n",
    "# %jsroot on"
   ]
  },
  {
   "cell_type": "code",
   "execution_count": 28,
   "metadata": {},
   "outputs": [
    {
     "data": {
      "image/png": "[encoded data removed]",
      "text/plain": [
       "<IPython.core.display.Image object>"
      ]
     },
     "metadata": {},
     "output_type": "display_data"
    }
   ],
   "source": [
    "c1 = factory.GetROCCurve(dataloader);\n",
    "c1.Draw();"
   ]
  },
  {
   "cell_type": "markdown",
   "metadata": {},
   "source": [
    "####  Close outputfile to save all output information (evaluation result of methods)"
   ]
  },
  {
   "cell_type": "code",
   "execution_count": 29,
   "metadata": {},
   "outputs": [],
   "source": [
    "outputFile.Close();"
   ]
  }
 ],
 "metadata": {
  "kernelspec": {
   "display_name": "Python 3",
   "language": "python",
   "name": "python3"
  },
  "language_info": {
   "codemirror_mode": {
    "name": "ipython",
    "version": 3
   },
   "file_extension": ".py",
   "mimetype": "text/x-python",
   "name": "python",
   "nbconvert_exporter": "python",
   "pygments_lexer": "ipython3",
   "version": "3.7.6"
  }
 },
 "nbformat": 4,
 "nbformat_minor": 4
}
