{
 "cells": [
  {
   "cell_type": "markdown",
   "metadata": {},
   "source": [
    "# TMVA Classification \n",
    "\n",
    "This notebook is a basic example for training and testing LSTM model with TMVA and TMVA-Keras."
   ]
  },
  {
   "cell_type": "markdown",
   "metadata": {},
   "source": [
    "## Declare Factory class"
   ]
  },
  {
   "cell_type": "code",
   "execution_count": 1,
   "metadata": {},
   "outputs": [
    {
     "name": "stdout",
     "output_type": "stream",
     "text": [
      "Welcome to JupyROOT 6.21/01\n"
     ]
    }
   ],
   "source": [
    "import ROOT\n",
    "from ROOT import TMVA\n",
    "from subprocess import call\n",
    "import os "
   ]
  },
  {
   "cell_type": "code",
   "execution_count": 2,
   "metadata": {},
   "outputs": [],
   "source": [
    "ROOT.TMVA.Tools.Instance()\n",
    "TMVA.PyMethodBase.PyInitialize()\n",
    "\n",
    "## For PYMVA methods\n",
    "TMVA.PyMethodBase.PyInitialize();\n",
    "\n",
    "\n",
    "outputFile = ROOT.TFile.Open(\"LSTM_ClassificationOutput.root\", \"RECREATE\")\n",
    "\n",
    "factory = ROOT.TMVA.Factory(\"TMVA_LSTM_Classification\", outputFile,\n",
    "                      \"!V:ROC:Silent:Color:!DrawProgressBar:AnalysisType=Classification\" )"
   ]
  },
  {
   "cell_type": "markdown",
   "metadata": {},
   "source": [
    "## Declare DataLoader(s)\n",
    "\n",
    "Next we get the data and declare the DataLoader class.\n",
    "\n",
    "In this case the input data consists of an image of 32x32 pixels. Each ROOT TTree contains a single branch containg a vector of size 1024 denoting the image pixels."
   ]
  },
  {
   "cell_type": "code",
   "execution_count": 3,
   "metadata": {},
   "outputs": [],
   "source": [
    "# Load data\n",
    "inputFileName = \"sample_timedata_t10_d30.root\"\n",
    "\n",
    "if not os.path.isfile(inputFileName):\n",
    "    call(['curl', '-o', inputFileName, 'https://cernbox.cern.ch/index.php/s/Pc8SBmHfvU1X0mb/download'])"
   ]
  },
  {
   "cell_type": "code",
   "execution_count": 4,
   "metadata": {
    "scrolled": true
   },
   "outputs": [
    {
     "name": "stdout",
     "output_type": "stream",
     "text": [
      "******************************************************************************\n",
      "*Tree    :sgn       : sgn                                                    *\n",
      "*Entries :    10000 : Total =        13449901 bytes  File  Size =   11259262 *\n",
      "*        :          : Tree compression factor =   1.19                       *\n",
      "******************************************************************************\n",
      "*Br    0 :vars_time0 : vector<float>                                         *\n",
      "*Entries :    10000 : Total  Size=    1344905 bytes  File Size  =    1124641 *\n",
      "*Baskets :       44 : Basket Size=      32000 bytes  Compression=   1.19     *\n",
      "*............................................................................*\n",
      "*Br    1 :vars_time1 : vector<float>                                         *\n",
      "*Entries :    10000 : Total  Size=    1344905 bytes  File Size  =    1124831 *\n",
      "*Baskets :       44 : Basket Size=      32000 bytes  Compression=   1.19     *\n",
      "*............................................................................*\n",
      "*Br    2 :vars_time2 : vector<float>                                         *\n",
      "*Entries :    10000 : Total  Size=    1344905 bytes  File Size  =    1124795 *\n",
      "*Baskets :       44 : Basket Size=      32000 bytes  Compression=   1.19     *\n",
      "*............................................................................*\n",
      "*Br    3 :vars_time3 : vector<float>                                         *\n",
      "*Entries :    10000 : Total  Size=    1344905 bytes  File Size  =    1124957 *\n",
      "*Baskets :       44 : Basket Size=      32000 bytes  Compression=   1.19     *\n",
      "*............................................................................*\n",
      "*Br    4 :vars_time4 : vector<float>                                         *\n",
      "*Entries :    10000 : Total  Size=    1344905 bytes  File Size  =    1125231 *\n",
      "*Baskets :       44 : Basket Size=      32000 bytes  Compression=   1.19     *\n",
      "*............................................................................*\n",
      "*Br    5 :vars_time5 : vector<float>                                         *\n",
      "*Entries :    10000 : Total  Size=    1344905 bytes  File Size  =    1125490 *\n",
      "*Baskets :       44 : Basket Size=      32000 bytes  Compression=   1.19     *\n",
      "*............................................................................*\n",
      "*Br    6 :vars_time6 : vector<float>                                         *\n",
      "*Entries :    10000 : Total  Size=    1344905 bytes  File Size  =    1125859 *\n",
      "*Baskets :       44 : Basket Size=      32000 bytes  Compression=   1.19     *\n",
      "*............................................................................*\n",
      "*Br    7 :vars_time7 : vector<float>                                         *\n",
      "*Entries :    10000 : Total  Size=    1344905 bytes  File Size  =    1126194 *\n",
      "*Baskets :       44 : Basket Size=      32000 bytes  Compression=   1.19     *\n",
      "*............................................................................*\n",
      "*Br    8 :vars_time8 : vector<float>                                         *\n",
      "*Entries :    10000 : Total  Size=    1344905 bytes  File Size  =    1126571 *\n",
      "*Baskets :       44 : Basket Size=      32000 bytes  Compression=   1.19     *\n",
      "*............................................................................*\n",
      "*Br    9 :vars_time9 : vector<float>                                         *\n",
      "*Entries :    10000 : Total  Size=    1344905 bytes  File Size  =    1126862 *\n",
      "*Baskets :       44 : Basket Size=      32000 bytes  Compression=   1.19     *\n",
      "*............................................................................*\n"
     ]
    }
   ],
   "source": [
    "inputFile = ROOT.TFile.Open( inputFileName )\n",
    "\n",
    "# retrieve input trees\n",
    "signalTree     = inputFile.Get(\"sgn\")\n",
    "backgroundTree = inputFile.Get(\"bkg\")\n",
    "\n",
    "signalTree.Print()"
   ]
  },
  {
   "cell_type": "code",
   "execution_count": 5,
   "metadata": {},
   "outputs": [
    {
     "name": "stdout",
     "output_type": "stream",
     "text": [
      "create data set info dataset\n"
     ]
    }
   ],
   "source": [
    "dataloader = TMVA.DataLoader('dataset')\n",
    "\n",
    "### Adding the trees\n",
    "dataloader.AddSignalTree(signalTree, 1.0)\n",
    "dataloader.AddBackgroundTree(backgroundTree, 1.0)\n",
    "\n",
    "# Add variables\n",
    "# Keras LSTM expects input of shape (None, timesteps, input_feat_dim)\n",
    "timesteps = 10\n",
    "feat_dim = 30\n",
    "for t in range(timesteps):\n",
    "    for i in range(feat_dim):\n",
    "        varName = \"var_{} := vars_time{}[{}]\".format(t * feat_dim + i, t, i)\n",
    "        dataloader.AddVariable(varName, 'F')\n",
    "        \n",
    "dataloader.PrepareTrainingAndTestTree( ROOT.TCut(''), ROOT.TCut(''),\n",
    "                                  \"nTrain_Signal=8000:nTrain_Background=8000:SplitMode=Random:\"\n",
    "                                   \"NormMode=NumEvents:!V\" )"
   ]
  },
  {
   "cell_type": "markdown",
   "metadata": {},
   "source": [
    "# Booking Methods\n",
    "\n",
    "Here we book the TMVA and TMVA-Keras methods."
   ]
  },
  {
   "cell_type": "markdown",
   "metadata": {},
   "source": [
    "### Book LSTM Network in TMVA"
   ]
  },
  {
   "cell_type": "code",
   "execution_count": 6,
   "metadata": {
    "scrolled": true
   },
   "outputs": [],
   "source": [
    "# #input layout \n",
    "# inputLayoutString = \"InputLayout=10|1|30\"\n",
    "                                                                           \n",
    "# ## Batch Layout                                                                                                                                     \n",
    "# batchLayoutString = \"BatchLayout=67|1|300\"\n",
    "                                                   \n",
    "# layoutString = (\"Layout=RESHAPE|10|1|30,RNN|95|30|10,RESHAPE|FLAT,DENSE|64|TANH,DENSE|1|TANH\")\n",
    "\n",
    "# ##Training strategies.                                                                                                                          \n",
    "# training1 = (\"LearningRate=0.0003,Momentum=0.9,Repetitions=1,\"\n",
    "#                      \"ConvergenceSteps=10,BatchSize=67,TestRepetitions=1,\"\n",
    "#                      \"MaxEpochs=1,WeightDecay=1e-4,Regularization=None,\"\n",
    "#                      \"Optimizer=SGD,DropConfig=0.0+0.0+0.0+0.0\")\n",
    " \n",
    "# trainingStrategyString = \"TrainingStrategy=\" + training1\n",
    "    \n",
    "# ## General Options.                                                                                                                              \n",
    "# rnnOptions = (\"!H:V:ErrorStrategy=CROSSENTROPY:VarTransform=None:\"\n",
    "#                        \"WeightInitialization=XAVIERUNIFORM\")\n",
    "\n",
    "# # rnnOptions +=  \":\" + inputLayoutString\n",
    "# rnnOptions +=  \":\" + batchLayoutString\n",
    "# rnnOptions +=  \":\" + layoutString\n",
    "# rnnOptions +=  \":\" + trainingStrategyString\n",
    "# rnnOptions +=  \":Architecture=CPU\"\n",
    "\n",
    "# ##book CNN\n",
    "# factory.BookMethod(dataloader, TMVA.Types.kDL, \"DL_RNN\", rnnOptions)"
   ]
  },
  {
   "cell_type": "markdown",
   "metadata": {},
   "source": [
    "### Book LSTM Network in Keras"
   ]
  },
  {
   "cell_type": "code",
   "execution_count": 7,
   "metadata": {},
   "outputs": [],
   "source": [
    "## to use tensorflow backend\n",
    "import os\n",
    "os.environ[\"KERAS_BACKEND\"] = \"tensorflow\""
   ]
  },
  {
   "cell_type": "code",
   "execution_count": 8,
   "metadata": {},
   "outputs": [
    {
     "name": "stderr",
     "output_type": "stream",
     "text": [
      "Using TensorFlow backend.\n"
     ]
    }
   ],
   "source": [
    "from keras.models import Sequential\n",
    "from keras.layers import Dense, Activation, Reshape\n",
    "from keras.layers import Dense, Dropout, Embedding, LSTM, Bidirectional\n",
    "from keras.optimizers import SGD"
   ]
  },
  {
   "cell_type": "code",
   "execution_count": 9,
   "metadata": {},
   "outputs": [
    {
     "name": "stdout",
     "output_type": "stream",
     "text": [
      "Model: \"sequential_1\"\n",
      "_________________________________________________________________\n",
      "Layer (type)                 Output Shape              Param #   \n",
      "=================================================================\n",
      "reshape_1 (Reshape)          (None, 10, 30)            0         \n",
      "_________________________________________________________________\n",
      "bidirectional_1 (Bidirection (None, 10, 128)           48640     \n",
      "_________________________________________________________________\n",
      "bidirectional_2 (Bidirection (None, 128)               98816     \n",
      "_________________________________________________________________\n",
      "dropout_1 (Dropout)          (None, 128)               0         \n",
      "_________________________________________________________________\n",
      "dense_1 (Dense)              (None, 2)                 258       \n",
      "=================================================================\n",
      "Total params: 147,714\n",
      "Trainable params: 147,714\n",
      "Non-trainable params: 0\n",
      "_________________________________________________________________\n"
     ]
    },
    {
     "name": "stderr",
     "output_type": "stream",
     "text": [
      "2020-03-18 10:56:42.625146: I tensorflow/core/platform/cpu_feature_guard.cc:142] Your CPU supports instructions that this TensorFlow binary was not compiled to use: SSE4.1 SSE4.2 AVX AVX2 FMA\n",
      "2020-03-18 10:56:42.663208: I tensorflow/core/platform/profile_utils/cpu_utils.cc:94] CPU Frequency: 2208000000 Hz\n",
      "2020-03-18 10:56:42.672301: I tensorflow/compiler/xla/service/service.cc:168] XLA service 0x7fffdb1a2b80 initialized for platform Host (this does not guarantee that XLA will be used). Devices:\n",
      "2020-03-18 10:56:42.672596: I tensorflow/compiler/xla/service/service.cc:176]   StreamExecutor device (0): Host, Default Version\n",
      "2020-03-18 10:56:42.674031: I tensorflow/core/common_runtime/process_util.cc:147] Creating new thread pool with default inter op setting: 2. Tune using inter_op_parallelism_threads for best performance.\n"
     ]
    }
   ],
   "source": [
    "# Generate model\n",
    "batch_size = 128\n",
    "epochs = 20\n",
    "\n",
    "# Define model\n",
    "model = Sequential()\n",
    "model.add(Reshape((timesteps, feat_dim), input_shape=(timesteps * feat_dim,)))\n",
    "model.add(Bidirectional(LSTM(64, return_sequences=True)))\n",
    "model.add(Bidirectional(LSTM(64)))\n",
    "model.add(Dropout(0.2))\n",
    "model.add(Dense(2, activation='softmax'))\n",
    "\n",
    "# Set loss and optimizer\n",
    "model.compile('adam', 'categorical_crossentropy', metrics=['accuracy'])\n",
    "\n",
    "# model.compile(loss='categorical_crossentropy',\n",
    "#               optimizer=SGD(lr=0.001, decay=1e-6, momentum=0.9),\n",
    "#               metrics=['accuracy'])\n",
    "\n",
    "# Store model to file\n",
    "model.save('model_lstm.h5')\n",
    "model.summary()"
   ]
  },
  {
   "cell_type": "code",
   "execution_count": 10,
   "metadata": {},
   "outputs": [
    {
     "data": {
      "text/plain": [
       "<cppyy.gbl.TMVA.MethodPyKeras object at 0x7f321414a890>"
      ]
     },
     "execution_count": 10,
     "metadata": {},
     "output_type": "execute_result"
    },
    {
     "name": "stderr",
     "output_type": "stream",
     "text": [
      "2020-03-18 10:56:44.271433: I tensorflow/core/common_runtime/process_util.cc:147] Creating new thread pool with default inter op setting: 2. Tune using inter_op_parallelism_threads for best performance.\n"
     ]
    }
   ],
   "source": [
    "# Book method\n",
    "factory.BookMethod(dataloader, TMVA.Types.kPyKeras, 'PyKeras',\n",
    "                   'H:!V:VarTransform=None:FilenameModel=model_lstm.h5:'\n",
    "                   'FileNameTrainedModel=trained_model_lstm.h5:NumEpochs={}:BatchSize={}'.format(epochs, batch_size))"
   ]
  },
  {
   "cell_type": "markdown",
   "metadata": {},
   "source": [
    "## Train Methods"
   ]
  },
  {
   "cell_type": "code",
   "execution_count": 11,
   "metadata": {
    "scrolled": true
   },
   "outputs": [
    {
     "name": "stdout",
     "output_type": "stream",
     "text": [
      "Model: \"sequential_1\"\n",
      "_________________________________________________________________\n",
      "Layer (type)                 Output Shape              Param #   \n",
      "=================================================================\n",
      "reshape_1 (Reshape)          (None, 10, 30)            0         \n",
      "_________________________________________________________________\n",
      "bidirectional_1 (Bidirection (None, 10, 128)           48640     \n",
      "_________________________________________________________________\n",
      "bidirectional_2 (Bidirection (None, 128)               98816     \n",
      "_________________________________________________________________\n",
      "dropout_1 (Dropout)          (None, 128)               0         \n",
      "_________________________________________________________________\n",
      "dense_1 (Dense)              (None, 2)                 258       \n",
      "=================================================================\n",
      "Total params: 147,714\n",
      "Trainable params: 147,714\n",
      "Non-trainable params: 0\n",
      "_________________________________________________________________\n",
      "Train on 12800 samples, validate on 3200 samples\n",
      "Epoch 1/20\n",
      "12800/12800 [==============================] - 27s 2ms/step - loss: 0.5214 - accuracy: 0.7270 - val_loss: 0.4184 - val_accuracy: 0.8103\n",
      "\n",
      "Epoch 00001: val_loss improved from inf to 0.41841, saving model to trained_model_lstm.h5\n",
      "Epoch 2/20\n",
      "12800/12800 [==============================] - 17s 1ms/step - loss: 0.3948 - accuracy: 0.8211 - val_loss: 0.3769 - val_accuracy: 0.8275\n",
      "\n",
      "Epoch 00002: val_loss improved from 0.41841 to 0.37694, saving model to trained_model_lstm.h5\n",
      "Epoch 3/20\n",
      "12800/12800 [==============================] - 17s 1ms/step - loss: 0.3810 - accuracy: 0.8287 - val_loss: 0.3769 - val_accuracy: 0.8313\n",
      "\n",
      "Epoch 00003: val_loss did not improve from 0.37694\n",
      "Epoch 4/20\n",
      "12800/12800 [==============================] - 17s 1ms/step - loss: 0.3737 - accuracy: 0.8327 - val_loss: 0.3891 - val_accuracy: 0.8181\n",
      "\n",
      "Epoch 00004: val_loss did not improve from 0.37694\n",
      "Epoch 5/20\n",
      "12800/12800 [==============================] - 17s 1ms/step - loss: 0.3730 - accuracy: 0.8332 - val_loss: 0.3803 - val_accuracy: 0.8306\n",
      "\n",
      "Epoch 00005: val_loss did not improve from 0.37694\n",
      "Epoch 6/20\n",
      "12800/12800 [==============================] - 17s 1ms/step - loss: 0.3622 - accuracy: 0.8383 - val_loss: 0.3716 - val_accuracy: 0.8272\n",
      "\n",
      "Epoch 00006: val_loss improved from 0.37694 to 0.37155, saving model to trained_model_lstm.h5\n",
      "Epoch 7/20\n",
      "12800/12800 [==============================] - 17s 1ms/step - loss: 0.3636 - accuracy: 0.8377 - val_loss: 0.3743 - val_accuracy: 0.8266\n",
      "\n",
      "Epoch 00007: val_loss did not improve from 0.37155\n",
      "Epoch 8/20\n",
      "12800/12800 [==============================] - 17s 1ms/step - loss: 0.3558 - accuracy: 0.8402 - val_loss: 0.3799 - val_accuracy: 0.8297\n",
      "\n",
      "Epoch 00008: val_loss did not improve from 0.37155\n",
      "Epoch 9/20\n",
      "12800/12800 [==============================] - 17s 1ms/step - loss: 0.3546 - accuracy: 0.8438 - val_loss: 0.3729 - val_accuracy: 0.8297\n",
      "\n",
      "Epoch 00009: val_loss did not improve from 0.37155\n",
      "Epoch 10/20\n",
      "12800/12800 [==============================] - 17s 1ms/step - loss: 0.3570 - accuracy: 0.8405 - val_loss: 0.3692 - val_accuracy: 0.8319\n",
      "\n",
      "Epoch 00010: val_loss improved from 0.37155 to 0.36917, saving model to trained_model_lstm.h5\n",
      "Epoch 11/20\n",
      "12800/12800 [==============================] - 17s 1ms/step - loss: 0.3472 - accuracy: 0.8477 - val_loss: 0.3884 - val_accuracy: 0.8231\n",
      "\n",
      "Epoch 00011: val_loss did not improve from 0.36917\n",
      "Epoch 12/20\n",
      "12800/12800 [==============================] - 18s 1ms/step - loss: 0.3510 - accuracy: 0.8430 - val_loss: 0.3701 - val_accuracy: 0.8350\n",
      "\n",
      "Epoch 00012: val_loss did not improve from 0.36917\n",
      "Epoch 13/20\n",
      "12800/12800 [==============================] - 18s 1ms/step - loss: 0.3423 - accuracy: 0.8498 - val_loss: 0.3640 - val_accuracy: 0.8369\n",
      "\n",
      "Epoch 00013: val_loss improved from 0.36917 to 0.36397, saving model to trained_model_lstm.h5\n",
      "Epoch 14/20\n",
      "12800/12800 [==============================] - 18s 1ms/step - loss: 0.3447 - accuracy: 0.8486 - val_loss: 0.3704 - val_accuracy: 0.8325\n",
      "\n",
      "Epoch 00014: val_loss did not improve from 0.36397\n",
      "Epoch 15/20\n",
      "12800/12800 [==============================] - 18s 1ms/step - loss: 0.3411 - accuracy: 0.8505 - val_loss: 0.3675 - val_accuracy: 0.8344\n",
      "\n",
      "Epoch 00015: val_loss did not improve from 0.36397\n",
      "Epoch 16/20\n",
      "12800/12800 [==============================] - 18s 1ms/step - loss: 0.3376 - accuracy: 0.8555 - val_loss: 0.3724 - val_accuracy: 0.8306\n",
      "\n",
      "Epoch 00016: val_loss did not improve from 0.36397\n",
      "Epoch 17/20\n",
      "12800/12800 [==============================] - 17s 1ms/step - loss: 0.3393 - accuracy: 0.8509 - val_loss: 0.3798 - val_accuracy: 0.8294\n",
      "\n",
      "Epoch 00017: val_loss did not improve from 0.36397\n",
      "Epoch 18/20\n",
      "12800/12800 [==============================] - 19s 1ms/step - loss: 0.3357 - accuracy: 0.8505 - val_loss: 0.3754 - val_accuracy: 0.8278\n",
      "\n",
      "Epoch 00018: val_loss did not improve from 0.36397\n",
      "Epoch 19/20\n",
      "12800/12800 [==============================] - 18s 1ms/step - loss: 0.3385 - accuracy: 0.8515 - val_loss: 0.3837 - val_accuracy: 0.8300\n",
      "\n",
      "Epoch 00019: val_loss did not improve from 0.36397\n",
      "Epoch 20/20\n",
      "12800/12800 [==============================] - 18s 1ms/step - loss: 0.3374 - accuracy: 0.8527 - val_loss: 0.3748 - val_accuracy: 0.8313\n",
      "\n",
      "Epoch 00020: val_loss did not improve from 0.36397\n",
      "TH1.Print Name  = TrainingHistory_PyKeras_'accuracy', Entries= 0, Total sum= 16.7437\n",
      "TH1.Print Name  = TrainingHistory_PyKeras_'loss', Entries= 0, Total sum= 7.25211\n",
      "TH1.Print Name  = TrainingHistory_PyKeras_'val_accuracy', Entries= 0, Total sum= 16.5738\n",
      "TH1.Print Name  = TrainingHistory_PyKeras_'val_loss', Entries= 0, Total sum= 7.55616\n"
     ]
    }
   ],
   "source": [
    "factory.TrainAllMethods()"
   ]
  },
  {
   "cell_type": "markdown",
   "metadata": {},
   "source": [
    "## Test and Evaluate Methods"
   ]
  },
  {
   "cell_type": "code",
   "execution_count": 12,
   "metadata": {},
   "outputs": [],
   "source": [
    "factory.TestAllMethods()"
   ]
  },
  {
   "cell_type": "code",
   "execution_count": 13,
   "metadata": {},
   "outputs": [
    {
     "name": "stdout",
     "output_type": "stream",
     "text": [
      "                         : \n",
      "                         : Evaluation results ranked by best signal efficiency and purity (area)\n",
      "                         : -------------------------------------------------------------------------------------------------------------------\n",
      "                         : DataSet       MVA                       \n",
      "                         : Name:         Method:          ROC-integ\n",
      "                         : dataset       PyKeras        : 0.923\n",
      "                         : -------------------------------------------------------------------------------------------------------------------\n",
      "                         : \n",
      "                         : Testing efficiency compared to training efficiency (overtraining check)\n",
      "                         : -------------------------------------------------------------------------------------------------------------------\n",
      "                         : DataSet              MVA              Signal efficiency: from test sample (from training sample) \n",
      "                         : Name:                Method:          @B=0.01             @B=0.10            @B=0.30   \n",
      "                         : -------------------------------------------------------------------------------------------------------------------\n",
      "                         : dataset              PyKeras        : 0.402 (0.367)       0.767 (0.778)      0.934 (0.933)\n",
      "                         : -------------------------------------------------------------------------------------------------------------------\n",
      "                         : \n"
     ]
    }
   ],
   "source": [
    "factory.EvaluateAllMethods()"
   ]
  },
  {
   "cell_type": "markdown",
   "metadata": {},
   "source": [
    "## Plot ROC Curve\n",
    "\n",
    "We plot here the produce ROC curve obtained on evaluating the methods on the test data set"
   ]
  },
  {
   "cell_type": "code",
   "execution_count": 14,
   "metadata": {},
   "outputs": [],
   "source": [
    "# //We enable JavaScript visualisation for the plots\n",
    "# %jsroot on"
   ]
  },
  {
   "cell_type": "code",
   "execution_count": 15,
   "metadata": {},
   "outputs": [
    {
     "data": {
      "image/png": "[encoded data removed]",
      "text/plain": [
       "<IPython.core.display.Image object>"
      ]
     },
     "metadata": {},
     "output_type": "display_data"
    }
   ],
   "source": [
    "c1 = factory.GetROCCurve(dataloader);\n",
    "c1.Draw();"
   ]
  },
  {
   "cell_type": "markdown",
   "metadata": {},
   "source": [
    "####  Close outputfile to save all output information (evaluation result of methods)"
   ]
  },
  {
   "cell_type": "code",
   "execution_count": 16,
   "metadata": {},
   "outputs": [],
   "source": [
    "outputFile.Close();"
   ]
  }
 ],
 "metadata": {
  "kernelspec": {
   "display_name": "Python 3",
   "language": "python",
   "name": "python3"
  },
  "language_info": {
   "codemirror_mode": {
    "name": "ipython",
    "version": 3
   },
   "file_extension": ".py",
   "mimetype": "text/x-python",
   "name": "python",
   "nbconvert_exporter": "python",
   "pygments_lexer": "ipython3",
   "version": "3.7.6"
  }
 },
 "nbformat": 4,
 "nbformat_minor": 4
}
