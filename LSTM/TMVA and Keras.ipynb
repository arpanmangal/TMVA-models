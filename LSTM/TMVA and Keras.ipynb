{
 "cells": [
  {
   "cell_type": "markdown",
   "metadata": {},
   "source": [
    "# TMVA Classification \n",
    "\n",
    "This notebook is a basic example for training and testing LSTM model with TMVA and TMVA-Keras."
   ]
  },
  {
   "cell_type": "markdown",
   "metadata": {},
   "source": [
    "## Declare Factory class"
   ]
  },
  {
   "cell_type": "code",
   "execution_count": 1,
   "metadata": {},
   "outputs": [
    {
     "name": "stdout",
     "output_type": "stream",
     "text": [
      "Welcome to JupyROOT 6.21/01\n"
     ]
    }
   ],
   "source": [
    "import ROOT\n",
    "from ROOT import TMVA\n",
    "from subprocess import call\n",
    "import os "
   ]
  },
  {
   "cell_type": "code",
   "execution_count": 2,
   "metadata": {},
   "outputs": [],
   "source": [
    "ROOT.TMVA.Tools.Instance()\n",
    "TMVA.PyMethodBase.PyInitialize()\n",
    "\n",
    "## For PYMVA methods\n",
    "TMVA.PyMethodBase.PyInitialize();\n",
    "\n",
    "\n",
    "outputFile = ROOT.TFile.Open(\"LSTM_ClassificationOutput.root\", \"RECREATE\")\n",
    "\n",
    "factory = ROOT.TMVA.Factory(\"TMVA_LSTM_Classification\", outputFile,\n",
    "                      \"!V:ROC:Silent:Color:!DrawProgressBar:AnalysisType=Classification\" )"
   ]
  },
  {
   "cell_type": "markdown",
   "metadata": {},
   "source": [
    "## Declare DataLoader(s)\n",
    "\n",
    "Next we get the data and declare the DataLoader class.\n",
    "\n",
    "In this case the input data consists of an image of 32x32 pixels. Each ROOT TTree contains a single branch containg a vector of size 1024 denoting the image pixels."
   ]
  },
  {
   "cell_type": "code",
   "execution_count": 3,
   "metadata": {},
   "outputs": [],
   "source": [
    "# Load data\n",
    "inputFileName = \"sample_timedata_t10_d30.root\"\n",
    "\n",
    "if not os.path.isfile(inputFileName):\n",
    "    call(['curl', '-o', inputFileName, 'https://cernbox.cern.ch/index.php/s/Pc8SBmHfvU1X0mb/download'])"
   ]
  },
  {
   "cell_type": "code",
   "execution_count": 4,
   "metadata": {
    "scrolled": true
   },
   "outputs": [
    {
     "name": "stdout",
     "output_type": "stream",
     "text": [
      "******************************************************************************\n",
      "*Tree    :sgn       : sgn                                                    *\n",
      "*Entries :    10000 : Total =        13449901 bytes  File  Size =   11259262 *\n",
      "*        :          : Tree compression factor =   1.19                       *\n",
      "******************************************************************************\n",
      "*Br    0 :vars_time0 : vector<float>                                         *\n",
      "*Entries :    10000 : Total  Size=    1344905 bytes  File Size  =    1124641 *\n",
      "*Baskets :       44 : Basket Size=      32000 bytes  Compression=   1.19     *\n",
      "*............................................................................*\n",
      "*Br    1 :vars_time1 : vector<float>                                         *\n",
      "*Entries :    10000 : Total  Size=    1344905 bytes  File Size  =    1124831 *\n",
      "*Baskets :       44 : Basket Size=      32000 bytes  Compression=   1.19     *\n",
      "*............................................................................*\n",
      "*Br    2 :vars_time2 : vector<float>                                         *\n",
      "*Entries :    10000 : Total  Size=    1344905 bytes  File Size  =    1124795 *\n",
      "*Baskets :       44 : Basket Size=      32000 bytes  Compression=   1.19     *\n",
      "*............................................................................*\n",
      "*Br    3 :vars_time3 : vector<float>                                         *\n",
      "*Entries :    10000 : Total  Size=    1344905 bytes  File Size  =    1124957 *\n",
      "*Baskets :       44 : Basket Size=      32000 bytes  Compression=   1.19     *\n",
      "*............................................................................*\n",
      "*Br    4 :vars_time4 : vector<float>                                         *\n",
      "*Entries :    10000 : Total  Size=    1344905 bytes  File Size  =    1125231 *\n",
      "*Baskets :       44 : Basket Size=      32000 bytes  Compression=   1.19     *\n",
      "*............................................................................*\n",
      "*Br    5 :vars_time5 : vector<float>                                         *\n",
      "*Entries :    10000 : Total  Size=    1344905 bytes  File Size  =    1125490 *\n",
      "*Baskets :       44 : Basket Size=      32000 bytes  Compression=   1.19     *\n",
      "*............................................................................*\n",
      "*Br    6 :vars_time6 : vector<float>                                         *\n",
      "*Entries :    10000 : Total  Size=    1344905 bytes  File Size  =    1125859 *\n",
      "*Baskets :       44 : Basket Size=      32000 bytes  Compression=   1.19     *\n",
      "*............................................................................*\n",
      "*Br    7 :vars_time7 : vector<float>                                         *\n",
      "*Entries :    10000 : Total  Size=    1344905 bytes  File Size  =    1126194 *\n",
      "*Baskets :       44 : Basket Size=      32000 bytes  Compression=   1.19     *\n",
      "*............................................................................*\n",
      "*Br    8 :vars_time8 : vector<float>                                         *\n",
      "*Entries :    10000 : Total  Size=    1344905 bytes  File Size  =    1126571 *\n",
      "*Baskets :       44 : Basket Size=      32000 bytes  Compression=   1.19     *\n",
      "*............................................................................*\n",
      "*Br    9 :vars_time9 : vector<float>                                         *\n",
      "*Entries :    10000 : Total  Size=    1344905 bytes  File Size  =    1126862 *\n",
      "*Baskets :       44 : Basket Size=      32000 bytes  Compression=   1.19     *\n",
      "*............................................................................*\n"
     ]
    }
   ],
   "source": [
    "inputFile = ROOT.TFile.Open( inputFileName )\n",
    "\n",
    "# retrieve input trees\n",
    "signalTree     = inputFile.Get(\"sgn\")\n",
    "backgroundTree = inputFile.Get(\"bkg\")\n",
    "\n",
    "signalTree.Print()"
   ]
  },
  {
   "cell_type": "code",
   "execution_count": 5,
   "metadata": {},
   "outputs": [
    {
     "name": "stdout",
     "output_type": "stream",
     "text": [
      "create data set info dataset\n"
     ]
    }
   ],
   "source": [
    "dataloader = TMVA.DataLoader('dataset')\n",
    "\n",
    "### Adding the trees\n",
    "dataloader.AddSignalTree(signalTree, 1.0)\n",
    "dataloader.AddBackgroundTree(backgroundTree, 1.0)\n",
    "\n",
    "# Add variables\n",
    "# Keras LSTM expects input of shape (None, timesteps, input_feat_dim)\n",
    "timesteps = 10\n",
    "feat_dim = 30\n",
    "for t in range(timesteps):\n",
    "    for i in range(feat_dim):\n",
    "        varName = \"var_{} := vars_time{}[{}]\".format(t * feat_dim + i, t, i)\n",
    "        dataloader.AddVariable(varName, 'F')\n",
    "        \n",
    "dataloader.PrepareTrainingAndTestTree( ROOT.TCut(''), ROOT.TCut(''),\n",
    "                                  \"nTrain_Signal=8000:nTrain_Background=8000:SplitMode=Random:\"\n",
    "                                   \"NormMode=NumEvents:!V\" )"
   ]
  },
  {
   "cell_type": "markdown",
   "metadata": {},
   "source": [
    "# Booking Methods\n",
    "\n",
    "Here we book the TMVA and TMVA-Keras methods."
   ]
  },
  {
   "cell_type": "markdown",
   "metadata": {},
   "source": [
    "### Book LSTM Network in TMVA"
   ]
  },
  {
   "cell_type": "code",
   "execution_count": 6,
   "metadata": {
    "scrolled": true
   },
   "outputs": [],
   "source": [
    "# #input layout \n",
    "# inputLayoutString = \"InputLayout=10|30\"\n",
    "                                                                           \n",
    "# ## Batch Layout                                                                                                                                     \n",
    "# batchLayoutString = \"BatchLayout=64|1|300\"\n",
    "                                                   \n",
    "# layoutString = (\"Layout=LSTM|8|3|3|1|1|1|1|RELU,BNORM,CONV|8|3|3|1|1|1|1|RELU,\"\n",
    "#                 \"BNORM,RESHAPE|FLAT,DENSE|64|TANH,DENSE|1|TANH\")\n",
    "\n",
    "# ##Training strategies.                                                                                                                          \n",
    "# training1 = (\"LearningRate=0.0003,Momentum=0.9,Repetitions=1,\"\n",
    "#                      \"ConvergenceSteps=10,BatchSize=64,TestRepetitions=1,\"\n",
    "#                      \"MaxEpochs=20,WeightDecay=1e-4,Regularization=None,\"\n",
    "#                      \"Optimizer=SGD,DropConfig=0.0+0.0+0.0+0.0\")\n",
    " \n",
    "# trainingStrategyString = \"TrainingStrategy=\" + training1\n",
    "    \n",
    "# ## General Options.                                                                                                                              \n",
    "# cnnOptions = (\"!H:V:ErrorStrategy=CROSSENTROPY:VarTransform=None:\"\n",
    "#                        \"WeightInitialization=XAVIERUNIFORM\")\n",
    "\n",
    "# cnnOptions +=  \":\" + inputLayoutString\n",
    "# cnnOptions +=  \":\" + batchLayoutString\n",
    "# cnnOptions +=  \":\" + layoutString\n",
    "# cnnOptions +=  \":\" + trainingStrategyString\n",
    "# cnnOptions +=  \":Architecture=CPU\"\n",
    "\n",
    "# ##book CNN\n",
    "# factory.BookMethod(dataloader, TMVA.Types.kDL, \"DL_CNN\", cnnOptions)"
   ]
  },
  {
   "cell_type": "markdown",
   "metadata": {},
   "source": [
    "### Book LSTM Network in Keras"
   ]
  },
  {
   "cell_type": "code",
   "execution_count": 7,
   "metadata": {},
   "outputs": [],
   "source": [
    "## to use tensorflow backend\n",
    "import os\n",
    "os.environ[\"KERAS_BACKEND\"] = \"tensorflow\""
   ]
  },
  {
   "cell_type": "code",
   "execution_count": 8,
   "metadata": {},
   "outputs": [
    {
     "name": "stderr",
     "output_type": "stream",
     "text": [
      "Using TensorFlow backend.\n"
     ]
    }
   ],
   "source": [
    "from keras.models import Sequential\n",
    "from keras.layers import Dense, Activation, Reshape\n",
    "from keras.layers import Dense, Dropout, Embedding, LSTM, Bidirectional\n",
    "from keras.optimizers import SGD"
   ]
  },
  {
   "cell_type": "code",
   "execution_count": 9,
   "metadata": {},
   "outputs": [
    {
     "name": "stdout",
     "output_type": "stream",
     "text": [
      "Model: \"sequential_1\"\n",
      "_________________________________________________________________\n",
      "Layer (type)                 Output Shape              Param #   \n",
      "=================================================================\n",
      "reshape_1 (Reshape)          (None, 10, 30)            0         \n",
      "_________________________________________________________________\n",
      "bidirectional_1 (Bidirection (None, 128)               48640     \n",
      "_________________________________________________________________\n",
      "dropout_1 (Dropout)          (None, 128)               0         \n",
      "_________________________________________________________________\n",
      "dense_1 (Dense)              (None, 2)                 258       \n",
      "=================================================================\n",
      "Total params: 48,898\n",
      "Trainable params: 48,898\n",
      "Non-trainable params: 0\n",
      "_________________________________________________________________\n"
     ]
    },
    {
     "name": "stderr",
     "output_type": "stream",
     "text": [
      "2020-03-17 22:33:23.616604: I tensorflow/core/platform/cpu_feature_guard.cc:142] Your CPU supports instructions that this TensorFlow binary was not compiled to use: SSE4.1 SSE4.2 AVX AVX2 FMA\n",
      "2020-03-17 22:33:23.626434: I tensorflow/core/platform/profile_utils/cpu_utils.cc:94] CPU Frequency: 2208000000 Hz\n",
      "2020-03-17 22:33:23.628541: I tensorflow/compiler/xla/service/service.cc:168] XLA service 0x7fffd6e3f3d0 initialized for platform Host (this does not guarantee that XLA will be used). Devices:\n",
      "2020-03-17 22:33:23.628643: I tensorflow/compiler/xla/service/service.cc:176]   StreamExecutor device (0): Host, Default Version\n",
      "2020-03-17 22:33:23.629044: I tensorflow/core/common_runtime/process_util.cc:147] Creating new thread pool with default inter op setting: 2. Tune using inter_op_parallelism_threads for best performance.\n"
     ]
    }
   ],
   "source": [
    "# Generate model\n",
    "batch_size = 64\n",
    "epochs = 30\n",
    "\n",
    "# Define model\n",
    "model = Sequential()\n",
    "model.add(Reshape((timesteps, feat_dim), input_shape=(timesteps * feat_dim,)))\n",
    "model.add(Bidirectional(LSTM(64)))\n",
    "model.add(Dropout(0.2))\n",
    "model.add(Dense(2, activation='softmax'))\n",
    "\n",
    "# Set loss and optimizer\n",
    "model.compile('adam', 'categorical_crossentropy', metrics=['accuracy'])\n",
    "\n",
    "# model.compile(loss='categorical_crossentropy',\n",
    "#               optimizer=SGD(lr=0.001, decay=1e-6, momentum=0.9),\n",
    "#               metrics=['accuracy'])\n",
    "\n",
    "# Store model to file\n",
    "model.save('model_lstm.h5')\n",
    "model.summary()"
   ]
  },
  {
   "cell_type": "code",
   "execution_count": 10,
   "metadata": {},
   "outputs": [
    {
     "data": {
      "text/plain": [
       "<cppyy.gbl.TMVA.MethodPyKeras object at 0x7f493864aa30>"
      ]
     },
     "execution_count": 10,
     "metadata": {},
     "output_type": "execute_result"
    },
    {
     "name": "stderr",
     "output_type": "stream",
     "text": [
      "2020-03-17 22:33:24.041595: I tensorflow/core/common_runtime/process_util.cc:147] Creating new thread pool with default inter op setting: 2. Tune using inter_op_parallelism_threads for best performance.\n"
     ]
    }
   ],
   "source": [
    "# # Book method\n",
    "# factory.BookMethod(dataloader, TMVA.Types.kPyKeras, 'PyKeras',\n",
    "#                    'H:!V:VarTransform=None:FilenameModel=model_lstm.h5:'\n",
    "#                    'FileNameTrainedModel=trained_model_lstm.h5:NumEpochs={}:BatchSize={}'.format(epochs, batch_size))"
   ]
  },
  {
   "cell_type": "markdown",
   "metadata": {},
   "source": [
    "## Train Methods"
   ]
  },
  {
   "cell_type": "code",
   "execution_count": 11,
   "metadata": {
    "scrolled": true
   },
   "outputs": [
    {
     "name": "stdout",
     "output_type": "stream",
     "text": [
      "Model: \"sequential_1\"\n",
      "_________________________________________________________________\n",
      "Layer (type)                 Output Shape              Param #   \n",
      "=================================================================\n",
      "reshape_1 (Reshape)          (None, 10, 30)            0         \n",
      "_________________________________________________________________\n",
      "bidirectional_1 (Bidirection (None, 128)               48640     \n",
      "_________________________________________________________________\n",
      "dropout_1 (Dropout)          (None, 128)               0         \n",
      "_________________________________________________________________\n",
      "dense_1 (Dense)              (None, 2)                 258       \n",
      "=================================================================\n",
      "Total params: 48,898\n",
      "Trainable params: 48,898\n",
      "Non-trainable params: 0\n",
      "_________________________________________________________________\n",
      "Train on 12800 samples, validate on 3200 samples\n",
      "Epoch 1/30\n",
      "12800/12800 [==============================] - 6s 458us/step - loss: 0.6331 - accuracy: 0.6373 - val_loss: 0.5793 - val_accuracy: 0.6959\n",
      "\n",
      "Epoch 00001: val_loss improved from inf to 0.57932, saving model to trained_model_lstm.h5\n",
      "Epoch 2/30\n",
      "12800/12800 [==============================] - 4s 336us/step - loss: 0.5474 - accuracy: 0.7234 - val_loss: 0.4879 - val_accuracy: 0.7728\n",
      "\n",
      "Epoch 00002: val_loss improved from 0.57932 to 0.48787, saving model to trained_model_lstm.h5\n",
      "Epoch 3/30\n",
      "12800/12800 [==============================] - 4s 351us/step - loss: 0.4981 - accuracy: 0.7575 - val_loss: 0.4468 - val_accuracy: 0.7969\n",
      "\n",
      "Epoch 00003: val_loss improved from 0.48787 to 0.44680, saving model to trained_model_lstm.h5\n",
      "Epoch 4/30\n",
      "12800/12800 [==============================] - 5s 355us/step - loss: 0.4651 - accuracy: 0.7797 - val_loss: 0.4458 - val_accuracy: 0.7878\n",
      "\n",
      "Epoch 00004: val_loss improved from 0.44680 to 0.44584, saving model to trained_model_lstm.h5\n",
      "Epoch 5/30\n",
      "12800/12800 [==============================] - 5s 373us/step - loss: 0.4571 - accuracy: 0.7875 - val_loss: 0.4370 - val_accuracy: 0.7969\n",
      "\n",
      "Epoch 00005: val_loss improved from 0.44584 to 0.43696, saving model to trained_model_lstm.h5\n",
      "Epoch 6/30\n",
      "12800/12800 [==============================] - 5s 375us/step - loss: 0.4420 - accuracy: 0.7972 - val_loss: 0.4236 - val_accuracy: 0.8041\n",
      "\n",
      "Epoch 00006: val_loss improved from 0.43696 to 0.42355, saving model to trained_model_lstm.h5\n",
      "Epoch 7/30\n",
      "12800/12800 [==============================] - 5s 376us/step - loss: 0.4287 - accuracy: 0.8061 - val_loss: 0.4055 - val_accuracy: 0.8134\n",
      "\n",
      "Epoch 00007: val_loss improved from 0.42355 to 0.40549, saving model to trained_model_lstm.h5\n",
      "Epoch 8/30\n",
      "12800/12800 [==============================] - 5s 375us/step - loss: 0.4183 - accuracy: 0.8109 - val_loss: 0.4253 - val_accuracy: 0.8034\n",
      "\n",
      "Epoch 00008: val_loss did not improve from 0.40549\n",
      "Epoch 9/30\n",
      "12800/12800 [==============================] - 5s 389us/step - loss: 0.4274 - accuracy: 0.8070 - val_loss: 0.4052 - val_accuracy: 0.8128\n",
      "\n",
      "Epoch 00009: val_loss improved from 0.40549 to 0.40521, saving model to trained_model_lstm.h5\n",
      "Epoch 10/30\n",
      "12800/12800 [==============================] - 5s 394us/step - loss: 0.4226 - accuracy: 0.8092 - val_loss: 0.4044 - val_accuracy: 0.8106\n",
      "\n",
      "Epoch 00010: val_loss improved from 0.40521 to 0.40443, saving model to trained_model_lstm.h5\n",
      "Epoch 11/30\n",
      "12800/12800 [==============================] - 5s 395us/step - loss: 0.4050 - accuracy: 0.8194 - val_loss: 0.3999 - val_accuracy: 0.8138\n",
      "\n",
      "Epoch 00011: val_loss improved from 0.40443 to 0.39985, saving model to trained_model_lstm.h5\n",
      "Epoch 12/30\n",
      "12800/12800 [==============================] - 5s 397us/step - loss: 0.4068 - accuracy: 0.8195 - val_loss: 0.3915 - val_accuracy: 0.8184\n",
      "\n",
      "Epoch 00012: val_loss improved from 0.39985 to 0.39151, saving model to trained_model_lstm.h5\n",
      "Epoch 13/30\n",
      "12800/12800 [==============================] - 5s 397us/step - loss: 0.4099 - accuracy: 0.8165 - val_loss: 0.3970 - val_accuracy: 0.8159\n",
      "\n",
      "Epoch 00013: val_loss did not improve from 0.39151\n",
      "Epoch 14/30\n",
      "12800/12800 [==============================] - 5s 398us/step - loss: 0.3994 - accuracy: 0.8230 - val_loss: 0.3964 - val_accuracy: 0.8219\n",
      "\n",
      "Epoch 00014: val_loss did not improve from 0.39151\n",
      "Epoch 15/30\n",
      "12800/12800 [==============================] - 5s 399us/step - loss: 0.4038 - accuracy: 0.8160 - val_loss: 0.3926 - val_accuracy: 0.8231\n",
      "\n",
      "Epoch 00015: val_loss did not improve from 0.39151\n",
      "Epoch 16/30\n",
      "12800/12800 [==============================] - 5s 403us/step - loss: 0.3957 - accuracy: 0.8288 - val_loss: 0.4058 - val_accuracy: 0.8150\n",
      "\n",
      "Epoch 00016: val_loss did not improve from 0.39151\n",
      "Epoch 17/30\n",
      "12800/12800 [==============================] - 5s 412us/step - loss: 0.3967 - accuracy: 0.8194 - val_loss: 0.3874 - val_accuracy: 0.8194\n",
      "\n",
      "Epoch 00017: val_loss improved from 0.39151 to 0.38744, saving model to trained_model_lstm.h5\n",
      "Epoch 18/30\n",
      "12800/12800 [==============================] - 5s 412us/step - loss: 0.3973 - accuracy: 0.8270 - val_loss: 0.4196 - val_accuracy: 0.8169\n",
      "\n",
      "Epoch 00018: val_loss did not improve from 0.38744\n",
      "Epoch 19/30\n",
      "12800/12800 [==============================] - 5s 412us/step - loss: 0.3939 - accuracy: 0.8247 - val_loss: 0.3856 - val_accuracy: 0.8266\n",
      "\n",
      "Epoch 00019: val_loss improved from 0.38744 to 0.38556, saving model to trained_model_lstm.h5\n",
      "Epoch 20/30\n",
      "12800/12800 [==============================] - 5s 410us/step - loss: 0.3854 - accuracy: 0.8324 - val_loss: 0.3923 - val_accuracy: 0.8188\n",
      "\n",
      "Epoch 00020: val_loss did not improve from 0.38556\n",
      "Epoch 21/30\n",
      "12800/12800 [==============================] - 5s 419us/step - loss: 0.3901 - accuracy: 0.8301 - val_loss: 0.4301 - val_accuracy: 0.8062\n",
      "\n",
      "Epoch 00021: val_loss did not improve from 0.38556\n",
      "Epoch 22/30\n",
      "12800/12800 [==============================] - 5s 413us/step - loss: 0.3919 - accuracy: 0.8257 - val_loss: 0.3829 - val_accuracy: 0.8281\n",
      "\n",
      "Epoch 00022: val_loss improved from 0.38556 to 0.38285, saving model to trained_model_lstm.h5\n",
      "Epoch 23/30\n",
      "12800/12800 [==============================] - 5s 415us/step - loss: 0.3934 - accuracy: 0.8220 - val_loss: 0.4132 - val_accuracy: 0.8059\n",
      "\n",
      "Epoch 00023: val_loss did not improve from 0.38285\n",
      "Epoch 24/30\n",
      "12800/12800 [==============================] - 5s 419us/step - loss: 0.3905 - accuracy: 0.8247 - val_loss: 0.3952 - val_accuracy: 0.8150\n",
      "\n",
      "Epoch 00024: val_loss did not improve from 0.38285\n",
      "Epoch 25/30\n",
      "12800/12800 [==============================] - 5s 413us/step - loss: 0.3822 - accuracy: 0.8336 - val_loss: 0.3974 - val_accuracy: 0.8163\n",
      "\n",
      "Epoch 00025: val_loss did not improve from 0.38285\n",
      "Epoch 26/30\n",
      "12800/12800 [==============================] - 5s 414us/step - loss: 0.3869 - accuracy: 0.8283 - val_loss: 0.3972 - val_accuracy: 0.8181\n",
      "\n",
      "Epoch 00026: val_loss did not improve from 0.38285\n",
      "Epoch 27/30\n",
      "12800/12800 [==============================] - 5s 413us/step - loss: 0.3831 - accuracy: 0.8296 - val_loss: 0.3866 - val_accuracy: 0.8253\n",
      "\n",
      "Epoch 00027: val_loss did not improve from 0.38285\n",
      "Epoch 28/30\n",
      "12800/12800 [==============================] - 5s 416us/step - loss: 0.3765 - accuracy: 0.8334 - val_loss: 0.3977 - val_accuracy: 0.8219\n",
      "\n",
      "Epoch 00028: val_loss did not improve from 0.38285\n",
      "Epoch 29/30\n",
      "12800/12800 [==============================] - 5s 420us/step - loss: 0.3848 - accuracy: 0.8318 - val_loss: 0.3848 - val_accuracy: 0.8266\n",
      "\n",
      "Epoch 00029: val_loss did not improve from 0.38285\n",
      "Epoch 30/30\n",
      "12800/12800 [==============================] - 5s 424us/step - loss: 0.3796 - accuracy: 0.8338 - val_loss: 0.4091 - val_accuracy: 0.8141\n",
      "\n",
      "Epoch 00030: val_loss did not improve from 0.38285\n",
      "TH1.Print Name  = TrainingHistory_PyKeras_'accuracy', Entries= 0, Total sum= 24.2355\n",
      "TH1.Print Name  = TrainingHistory_PyKeras_'loss', Entries= 0, Total sum= 12.593\n",
      "TH1.Print Name  = TrainingHistory_PyKeras_'val_accuracy', Entries= 0, Total sum= 24.2619\n",
      "TH1.Print Name  = TrainingHistory_PyKeras_'val_loss', Entries= 0, Total sum= 12.4231\n"
     ]
    }
   ],
   "source": [
    "factory.TrainAllMethods()"
   ]
  },
  {
   "cell_type": "markdown",
   "metadata": {},
   "source": [
    "## Test and Evaluate Methods"
   ]
  },
  {
   "cell_type": "code",
   "execution_count": 12,
   "metadata": {},
   "outputs": [],
   "source": [
    "factory.TestAllMethods()"
   ]
  },
  {
   "cell_type": "code",
   "execution_count": 13,
   "metadata": {},
   "outputs": [
    {
     "name": "stdout",
     "output_type": "stream",
     "text": [
      "                         : \n",
      "                         : Evaluation results ranked by best signal efficiency and purity (area)\n",
      "                         : -------------------------------------------------------------------------------------------------------------------\n",
      "                         : DataSet       MVA                       \n",
      "                         : Name:         Method:          ROC-integ\n",
      "                         : dataset       PyKeras        : 0.915\n",
      "                         : -------------------------------------------------------------------------------------------------------------------\n",
      "                         : \n",
      "                         : Testing efficiency compared to training efficiency (overtraining check)\n",
      "                         : -------------------------------------------------------------------------------------------------------------------\n",
      "                         : DataSet              MVA              Signal efficiency: from test sample (from training sample) \n",
      "                         : Name:                Method:          @B=0.01             @B=0.10            @B=0.30   \n",
      "                         : -------------------------------------------------------------------------------------------------------------------\n",
      "                         : dataset              PyKeras        : 0.308 (0.330)       0.741 (0.749)      0.923 (0.927)\n",
      "                         : -------------------------------------------------------------------------------------------------------------------\n",
      "                         : \n"
     ]
    }
   ],
   "source": [
    "factory.EvaluateAllMethods()"
   ]
  },
  {
   "cell_type": "markdown",
   "metadata": {},
   "source": [
    "## Plot ROC Curve\n",
    "\n",
    "We plot here the produce ROC curve obtained on evaluating the methods on the test data set"
   ]
  },
  {
   "cell_type": "code",
   "execution_count": 14,
   "metadata": {},
   "outputs": [],
   "source": [
    "# //We enable JavaScript visualisation for the plots\n",
    "# %jsroot on"
   ]
  },
  {
   "cell_type": "code",
   "execution_count": 15,
   "metadata": {},
   "outputs": [
    {
     "data": {
      "image/png": "[encoded data removed]",
      "text/plain": [
       "<IPython.core.display.Image object>"
      ]
     },
     "metadata": {},
     "output_type": "display_data"
    }
   ],
   "source": [
    "c1 = factory.GetROCCurve(dataloader);\n",
    "c1.Draw();"
   ]
  },
  {
   "cell_type": "markdown",
   "metadata": {},
   "source": [
    "####  Close outputfile to save all output information (evaluation result of methods)"
   ]
  },
  {
   "cell_type": "code",
   "execution_count": 16,
   "metadata": {},
   "outputs": [],
   "source": [
    "outputFile.Close();"
   ]
  }
 ],
 "metadata": {
  "kernelspec": {
   "display_name": "Python 3",
   "language": "python",
   "name": "python3"
  },
  "language_info": {
   "codemirror_mode": {
    "name": "ipython",
    "version": 3
   },
   "file_extension": ".py",
   "mimetype": "text/x-python",
   "name": "python",
   "nbconvert_exporter": "python",
   "pygments_lexer": "ipython3",
   "version": "3.7.6"
  }
 },
 "nbformat": 4,
 "nbformat_minor": 4
}
